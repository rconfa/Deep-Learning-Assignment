{
  "nbformat": 4,
  "nbformat_minor": 0,
  "metadata": {
    "colab": {
      "name": "Assignment2.ipynb",
      "provenance": [],
      "collapsed_sections": [
        "f2ri5Fm1UPfp",
        "WbGTqgK7kvUJ",
        "7Fvih6SV3dqu"
      ]
    },
    "kernelspec": {
      "name": "python3",
      "display_name": "Python 3"
    },
    "language_info": {
      "name": "python"
    },
    "accelerator": "GPU"
  },
  "cells": [
    {
      "cell_type": "markdown",
      "metadata": {
        "id": "P6Lzta46Rfzh"
      },
      "source": [
        "# Advanced Machine Learning: Assignment 2\n",
        "\n",
        "Nome e cognome: Confalonieri Riccardo <br>\n",
        "Matricola: 830404<br>\n",
        "E-mail: r.confalonieri5@campus.unimib.it"
      ]
    },
    {
      "cell_type": "markdown",
      "metadata": {
        "id": "m2kyQITERyKf"
      },
      "source": [
        "# Prediction of grayscale images of letters P - Z.\n",
        "<p align='justify'>\n",
        "The assignment consists on the prediction of grayscale images of letters P - Z of handwritten letter dataset with a visual investigation of the reconstruction abilities of an auto-encoder architecture.\n",
        "\n",
        "The Dataset consists of 14000 training labelled images and 8800 test images.\n",
        "</p>"
      ]
    },
    {
      "cell_type": "markdown",
      "metadata": {
        "id": "fbPzdeVXR4ua"
      },
      "source": [
        "## Import packages"
      ]
    },
    {
      "cell_type": "code",
      "metadata": {
        "id": "KR9_MvC6RfEW"
      },
      "source": [
        "# for mounting GDrive\n",
        "from google.colab import drive\n",
        "\n",
        "# read dataset\n",
        "import pickle\n",
        "\n",
        "# for plotting\n",
        "import matplotlib.pyplot as plt\n",
        "import seaborn as sns\n",
        "import random \n",
        "\n",
        "# for splitting dataset\n",
        "from sklearn.model_selection import train_test_split\n",
        "\n",
        "# for preprocessing\n",
        "import numpy as np \n",
        "\n",
        "# for neural network\n",
        "from tensorflow import keras\n",
        "from tensorflow.keras.utils import to_categorical\n",
        "from keras.models import Sequential\n",
        "# importing keras layers for the model (dropout per regularization)\n",
        "from keras.layers.core import Dense, Activation, Dropout\n",
        "from keras.layers import Input\n",
        "# for autoencoder\n",
        "from keras.models import Model\n",
        "# for model optimizer\n",
        "from tensorflow.keras.optimizers import SGD\n",
        "# regularization\n",
        "from keras.callbacks import EarlyStopping\n",
        "from keras import regularizers\n",
        "# for model plot\n",
        "from keras.utils.vis_utils import plot_model\n",
        "\n",
        "# For evaluate classification \n",
        "from sklearn.metrics import confusion_matrix\n",
        "from sklearn.metrics import accuracy_score\n",
        "from sklearn.metrics import classification_report\n",
        "from sklearn.metrics import precision_recall_fscore_support"
      ],
      "execution_count": null,
      "outputs": []
    },
    {
      "cell_type": "markdown",
      "metadata": {
        "id": "xyDiOvPzSDxN"
      },
      "source": [
        "## Loading data\n",
        "<p align='justify'>\n",
        "In questa sezione carico i dataset contenenti tutti i dati necessari. Per il caricamento mi avvalgo del collegamento a Google Drive per evitare di importare i singoli file in un path locale.\n",
        "</p>"
      ]
    },
    {
      "cell_type": "code",
      "metadata": {
        "colab": {
          "base_uri": "https://localhost:8080/"
        },
        "id": "69Eg4o4USFJX",
        "outputId": "0964e378-8644-426f-f87d-c5cc182b1260"
      },
      "source": [
        "# mount personal gdrive folder\n",
        "drive.mount('/content/drive')\n",
        "\n",
        "# define data folder path\n",
        "drive_path = '/content/drive/MyDrive/Colab Notebooks/AML/Assignment/Assignment2/Dati/'"
      ],
      "execution_count": null,
      "outputs": [
        {
          "output_type": "stream",
          "name": "stdout",
          "text": [
            "Mounted at /content/drive\n"
          ]
        }
      ]
    },
    {
      "cell_type": "code",
      "metadata": {
        "id": "cf3WCeYGMY2t"
      },
      "source": [
        "# loading train (x and y variables) and test set (only x variables)\n",
        "x_train = pickle.load(open(drive_path + \"x_train.obj\",\"rb\"))\n",
        "\n",
        "x_test = pickle.load(open(drive_path + \"x_test.obj\",\"rb\"))\n",
        "\n",
        "y_train = pickle.load(open(drive_path + \"y_train.obj\",\"rb\"))"
      ],
      "execution_count": null,
      "outputs": []
    },
    {
      "cell_type": "markdown",
      "metadata": {
        "id": "f2ri5Fm1UPfp"
      },
      "source": [
        "## Inspecting the data\n",
        "<p align='justify'>\n",
        "In questa sezione analizzero i dataset appena caricati, dato che sono immagini provo anche a visualizzarne qualcuna per capire meglio la composizione del dataset.\n",
        "</p>"
      ]
    },
    {
      "cell_type": "markdown",
      "metadata": {
        "id": "hiGixTIHkr9h"
      },
      "source": [
        "### General analysis"
      ]
    },
    {
      "cell_type": "code",
      "metadata": {
        "colab": {
          "base_uri": "https://localhost:8080/"
        },
        "id": "Dt8ioFfHNOb6",
        "outputId": "c416f69f-980c-4d94-a642-df8c8e26b0c8"
      },
      "source": [
        "# check basic info\n",
        "print('Tipo delle immagini:', type(x_train))\n",
        "print('Numero di esempi di training:', x_train.shape[0])\n",
        "print('Numero di label per il training:', y_train.shape[0])\n",
        "print(\"Dimensione dell'immagine: \" + str(x_train.shape[1]) + \"x\" + str(x_train.shape[2]))\n",
        "print(\"Range di valori dell'immagine [\"+ str(x_train.min()) + \",\" \n",
        "      + str(x_train.max()) + \"]\")\n",
        "print(\"Tipo dei valori dell'immagine: \", type(x_train[0,10,12]))\n",
        "print('Numero di esempi di test:', x_test.shape[0])\n"
      ],
      "execution_count": null,
      "outputs": [
        {
          "output_type": "stream",
          "name": "stdout",
          "text": [
            "Tipo delle immagini: <class 'numpy.ndarray'>\n",
            "Numero di esempi di training: 14000\n",
            "Numero di label per il training: 14000\n",
            "Dimensione dell'immagine: 28x28\n",
            "Range di valori dell'immagine [0,255]\n",
            "Tipo dei valori dell'immagine:  <class 'numpy.uint8'>\n",
            "Numero di esempi di test: 8800\n"
          ]
        }
      ]
    },
    {
      "cell_type": "markdown",
      "metadata": {
        "id": "vbxwoKswUjkh"
      },
      "source": [
        "<p align='justify'>\n",
        "Il dataset caricato di contiene 14000 esempi di immagini, ogni immagine ha una grandezza 28x28 che però è riportata in due dimensioni diverse. \n",
        "Inoltre i valori sono nel range $[0, 255]$ e sono di tipo intero, per i modelli neurali occorrerà quindi <i>gestire sia la dimensione dell'array sia convertire i valori in float</i> con range $[0, 1]$. <br>\n",
        "Visualizzo quindi tutte le possibili classe di appartenenza presenti nel dataset. <br>\n",
        "</p>\n"
      ]
    },
    {
      "cell_type": "code",
      "metadata": {
        "colab": {
          "base_uri": "https://localhost:8080/",
          "height": 136
        },
        "id": "b-L68bpVQVVO",
        "outputId": "0e2b24b5-c219-4cc8-8b39-e729b28e777a"
      },
      "source": [
        "plt.figure(figsize=(20, 4))\n",
        "lst_label_visualized = []\n",
        "i = 0\n",
        "while i < 11:\n",
        "  idx = random.randint(0, len(y_train))\n",
        "  # check if I have already display this label\n",
        "  if y_train[idx] not in lst_label_visualized:\n",
        "    ax = plt.subplot(2, 11, i + 1)\n",
        "    # colormap = gray for better visualization\n",
        "    plt.imshow(x_train[idx], cmap = \"gray\")\n",
        "    # add label title\n",
        "    plt.title(\"(Label: \" + str(y_train[idx]) + \")\")\n",
        "    # remove axis from visualization\n",
        "    ax.get_xaxis().set_visible(False)\n",
        "    ax.get_yaxis().set_visible(False)\n",
        "    # go over\n",
        "    i += 1\n",
        "    lst_label_visualized.append(y_train[idx])"
      ],
      "execution_count": null,
      "outputs": [
        {
          "output_type": "display_data",
          "data": {
            "image/png": "[encoded data removed]",
            "text/plain": [
              "<Figure size 1440x288 with 11 Axes>"
            ]
          },
          "metadata": {
            "needs_background": "light"
          }
        }
      ]
    },
    {
      "cell_type": "markdown",
      "metadata": {
        "id": "WbGTqgK7kvUJ"
      },
      "source": [
        "### Is the class balanced? \n",
        "Controllo se le classi che voglio predire sono bilanciate."
      ]
    },
    {
      "cell_type": "code",
      "metadata": {
        "colab": {
          "base_uri": "https://localhost:8080/",
          "height": 378
        },
        "id": "viJL78g3PsD8",
        "outputId": "bcdf3a67-2273-4b1b-ee73-63c22f47ff73"
      },
      "source": [
        "plt.figure(figsize = (15,5))\n",
        "sns.countplot(y_train)\n",
        "plt.show()"
      ],
      "execution_count": null,
      "outputs": [
        {
          "output_type": "stream",
          "name": "stderr",
          "text": [
            "/usr/local/lib/python3.7/dist-packages/seaborn/_decorators.py:43: FutureWarning: Pass the following variable as a keyword arg: x. From version 0.12, the only valid positional argument will be `data`, and passing other arguments without an explicit keyword will result in an error or misinterpretation.\n",
            "  FutureWarning\n"
          ]
        },
        {
          "output_type": "display_data",
          "data": {
            "image/png": "[encoded data removed]",
            "text/plain": [
              "<Figure size 1080x360 with 1 Axes>"
            ]
          },
          "metadata": {
            "needs_background": "light"
          }
        }
      ]
    },
    {
      "cell_type": "markdown",
      "metadata": {
        "id": "EEmYf_4XP26s"
      },
      "source": [
        "<p align='justify'>\n",
        "Dal grafico si evidenzia come le classi in generale siano <i>bilanciate</i>, <i>eccezion fatta per la classe 26</i>, che riporta la lettera z, di cui abbiamo meno esempi nel traning set. In prima istanza provo a mantenere tutto così com'è avendo comunque molti esempi per ogni classe.\n",
        "</p>"
      ]
    },
    {
      "cell_type": "markdown",
      "metadata": {
        "id": "7Fvih6SV3dqu"
      },
      "source": [
        "### Y label\n",
        "Verifico i valori assunti dalle label. "
      ]
    },
    {
      "cell_type": "code",
      "metadata": {
        "colab": {
          "base_uri": "https://localhost:8080/"
        },
        "id": "NRzdNZTh3iV6",
        "outputId": "0a81c8f8-2386-4c45-dbb8-fcbdd7fcdbc3"
      },
      "source": [
        "print(\"Le label assumono i seguenti valori:\", set(y_train))\n",
        "\n",
        "# get the total number of labels\n",
        "n_labels = len(set(y_train))"
      ],
      "execution_count": null,
      "outputs": [
        {
          "output_type": "stream",
          "name": "stdout",
          "text": [
            "Le label assumono i seguenti valori: {16, 17, 18, 19, 20, 21, 22, 23, 24, 25, 26}\n"
          ]
        }
      ]
    },
    {
      "cell_type": "markdown",
      "metadata": {
        "id": "b-zALLvB33DC"
      },
      "source": [
        "<p align='justify'>\n",
        "Dato che le label assumono valori nel range $[16,26]$ sarà necessario convertirle nel range $[0,11]$, inoltre per il modello può essere utile ottenere una codifica in 1-hot encoding.\n",
        "<p>"
      ]
    },
    {
      "cell_type": "markdown",
      "metadata": {
        "id": "5F60iuhXWaIz"
      },
      "source": [
        "## Preprocessing\n",
        "<p align='justify'>\n",
        "In questa sezione mi occuperò di gestire le problematiche evidenziate dall'analisi del dataset in modo da ottenere un ''nuovo'' dataset pronto per essere passato al modello neurale. In particolare si effettuaranno i seguenti preprocessing:\n",
        "\n",
        "\n",
        "1.   Conversione dei valori in float e nell'intervallo $[0,1]$\n",
        "2.   Modifica della shape del dataset da tre a due dimensioni. In questo modo ogni immagine sarà rappresentata da un unica riga contenente $784$ valori.\n",
        "3.   Conversione delle label nel range $[0,11]$ e applicazione 1-hot encoding.\n",
        "\n",
        "Inoltre si procederà a splittare il dataset di training per ottenere una piccola porzione di validation utile per valutare i modelli creati.\n",
        "\n",
        "</p>"
      ]
    },
    {
      "cell_type": "code",
      "metadata": {
        "id": "mEcF8WGLF6fT"
      },
      "source": [
        "def preprocessing_train(train_data):\n",
        "  # function to apply the two preprocessing phase to a dataset. \n",
        "  # In this way I can use the same function for the test set.\n",
        "\n",
        "  # converting to float values and to [0,1] range\n",
        "  train_data = train_data.astype('float32')/255.0\n",
        "\n",
        "  # Reshaping\n",
        "  train_data = train_data.reshape((len(train_data), np.prod(train_data.shape[1:])))\n",
        "\n",
        "  return train_data"
      ],
      "execution_count": null,
      "outputs": []
    },
    {
      "cell_type": "code",
      "metadata": {
        "colab": {
          "base_uri": "https://localhost:8080/"
        },
        "id": "hByaj5xwXBl-",
        "outputId": "aebe645b-fa09-4a34-94da-ead369749990"
      },
      "source": [
        "# apply preprocessing\n",
        "x_train = preprocessing_train(x_train)\n",
        "\n",
        "# check new shape and new max/min values\n",
        "print(\"Valori compresi tra [\" + str(x_train[0].min()) + \",\" +\n",
        "      str(x_train[0].max())  + \"]\")\n",
        "\n",
        "print(\"Training set shape\" + str(x_train.shape))"
      ],
      "execution_count": null,
      "outputs": [
        {
          "output_type": "stream",
          "name": "stdout",
          "text": [
            "Valori compresi tra [0.0,1.0]\n",
            "Training set shape(14000, 784)\n"
          ]
        }
      ]
    },
    {
      "cell_type": "code",
      "metadata": {
        "id": "AkGhBHM5c189"
      },
      "source": [
        "# get 1-hot encoding labels\n",
        "yc_train = to_categorical(y_train-16, n_labels)"
      ],
      "execution_count": null,
      "outputs": []
    },
    {
      "cell_type": "code",
      "metadata": {
        "id": "6sCsKqSoBiy6"
      },
      "source": [
        "# splitting training data to get a test set with label for check model score\n",
        "x_train2, x_test2, y_train2, y_test2 = train_test_split(x_train, yc_train, \n",
        "                                                        test_size = 0.1,\n",
        "                                                        random_state=99)"
      ],
      "execution_count": null,
      "outputs": []
    },
    {
      "cell_type": "markdown",
      "metadata": {
        "id": "Oy8SnugTfWNH"
      },
      "source": [
        "### More consideration about test set 2\n",
        "<p align=\"justify\">\n",
        "Si è deciso di implementare sia un test set sia un validation set questo per diversi motivi. \n",
        "In primo luogo il <b>validation set</b> sarà utilizzato per <i>stoppare il traning del modello</i> prevendo eventuali overfitting grazie alla tecnica di early_stopping. Tuttavia questo validation set è estratto dai dati di traning che sono stati ribilanciati e quindi <i>\"lontani\" dal mondo reale</i> e quindi non sarebbe ideale per la valutazione delle metriche del modello, in tal senso viene utilizzato il <b>test set</b> che è invece stato estratto prima del ribilanciamento e quindi <i>mantiene lo sbilanciamento</i> sulla classe `DEFAULT` come ci si aspetta che avvenga anche nel <i>mondo reale</i> e quindi con dati mai visti."
      ]
    },
    {
      "cell_type": "markdown",
      "metadata": {
        "id": "-sa3k88IXoQ0"
      },
      "source": [
        "## Supervised classification with a traditional neural network\n",
        "<p align='justify'>\n",
        "In questa sezione provo a trattare il problema di classificazione attraverso l'uso di modelli di deep learning standard, come FFNN. <br>\n",
        "In particolare verranno riportati due modelli che adottano due tecniche di regolarizzazione diverse (L2 vs dropout) in modo da poterli confrontare. \n",
        "Si segnala che i modelli riportati sono quelli risultati i migliori dopo diverse prove effettuate con varie combinazioni di layer/funzioni di attivazione/tecniche di regolarizzazione. <br>\n",
        "In questa prima sezione vengono riportate due funzioni utili per valutare i modelli, una prima che permette di visualizzare la storia del training, ed una seconda che permette di calcolare le perfomance sul modello.\n",
        "</p>"
      ]
    },
    {
      "cell_type": "code",
      "metadata": {
        "id": "ar_ttQUYHusC"
      },
      "source": [
        "# Function for easily  plotting neural network training history\n",
        "def plot_history(network_history):\n",
        "    plt.figure(figsize = (13, 6))\n",
        "    plt.xlabel('Epochs')\n",
        "    plt.ylabel('Loss')\n",
        "    plt.title('model loss')\n",
        "    plt.plot(network_history.history['loss'])\n",
        "    plt.plot(network_history.history['val_loss'])\n",
        "    plt.legend(['Training', 'Validation'])\n",
        "\n",
        "    plt.figure(figsize = (13, 6))\n",
        "    plt.xlabel('Epochs')\n",
        "    plt.ylabel('Accuracy')\n",
        "    plt.title('model accuracy')\n",
        "    plt.plot(network_history.history['accuracy'])\n",
        "    plt.plot(network_history.history['val_accuracy'])\n",
        "    plt.legend(['Training', 'Validation'], loc='lower right')\n",
        "    plt.show()"
      ],
      "execution_count": null,
      "outputs": []
    },
    {
      "cell_type": "code",
      "metadata": {
        "id": "aQHtrOJ2HkY2"
      },
      "source": [
        "def evaluate_predition_ffnn(model, df_X, df_Y):\n",
        "  # function to evaluate and display metrics\n",
        "  \n",
        "  # predict y label\n",
        "  y_hat = model.predict(df_X)\n",
        "  # get the top score\n",
        "  y_hat = y_hat.argmax(axis=1)\n",
        "\n",
        "\n",
        "  # get top score for real y label\n",
        "  df_Y = df_Y.argmax(axis = 1)\n",
        "\n",
        "  df_Y = df_Y+16 \n",
        "  y_hat = y_hat+16 \n",
        "  # compute confusion matrix\n",
        "  cm = confusion_matrix(df_Y, y_hat)\n",
        "\n",
        "  cl = classification_report(df_Y, y_hat, output_dict=True) \n",
        "  print('\\nClassification Report\\n', classification_report(df_Y, y_hat))\n",
        "\n",
        "  # plot beautiful confusion matrix\n",
        "  ax = plt.subplot()\n",
        "  sns.heatmap(cm, annot=True, fmt='g', cmap=\"YlGnBu\");  \n",
        "\n",
        "  ax.set_xlabel('True labels'); ax.set_ylabel('Predicted labels'); \n",
        "  ax.set_title('Confusion Matrix'); \n",
        "  ax.xaxis.set_ticklabels(['P', 'Q', 'R', 'S', 'T', 'U', 'V', 'W', 'X', 'Y', 'Z']); \n",
        "  ax.yaxis.set_ticklabels(['P', 'Q', 'R', 'S', 'T', 'U', 'V', 'W', 'X', 'Y', 'Z']);\n",
        "\n",
        "  return y_hat, cl\n"
      ],
      "execution_count": null,
      "outputs": []
    },
    {
      "cell_type": "markdown",
      "metadata": {
        "id": "pDA2IAnpDOyu"
      },
      "source": [
        "### FFNN with L2 regularization\n",
        "<p align='justify'>\n",
        "Si riporta come primo esempio un modello addestrato con la tecnica di regolarizzazione L2. Applico inoltre il metodo dell'early stopping che permette di fermare l'apprendimento del modello qualora non vi fossero dei miglioramenti in 3 epoche consecutive, l'implementazione dell'early stopping inoltre riporta la rete all'epoca migliore trovata fino a quel momento.\n",
        "</p>"
      ]
    },
    {
      "cell_type": "code",
      "metadata": {
        "id": "4cajGsGJ5Czd"
      },
      "source": [
        "# Sequential model\n",
        "model_l2 = keras.Sequential()\n",
        "\n",
        "# setting the input layer (not necessarly but good for report)\n",
        "model_l2.add(keras.Input(x_train2.shape[1:]))\n",
        "\n",
        "# 2xFC @ 128, non linear\n",
        "model_l2.add(keras.layers.Dense(128, activation='relu', \n",
        "                             kernel_regularizer=regularizers.l2(0.01)))\n",
        "\n",
        "# output layer for predicting class\n",
        "model_l2.add(keras.layers.Dense(n_labels, activation='softmax'))\n",
        "\n",
        "# optimization\n",
        "model_l2.compile(optimizer = \"sgd\", loss = \"categorical_crossentropy\", \n",
        "              metrics = [\"accuracy\"])"
      ],
      "execution_count": null,
      "outputs": []
    },
    {
      "cell_type": "code",
      "metadata": {
        "colab": {
          "base_uri": "https://localhost:8080/",
          "height": 152
        },
        "id": "IoU58sEv7_7K",
        "outputId": "354851b4-37cb-459a-fd83-2a6b7f3ad90d"
      },
      "source": [
        "# visualizing model\n",
        "plot_model(model_l2, show_shapes=True, rankdir=\"LR\")"
      ],
      "execution_count": null,
      "outputs": [
        {
          "output_type": "execute_result",
          "data": {
            "image/png": "[encoded data removed]",
            "text/plain": [
              "<IPython.core.display.Image object>"
            ]
          },
          "metadata": {},
          "execution_count": 20
        }
      ]
    },
    {
      "cell_type": "code",
      "metadata": {
        "colab": {
          "base_uri": "https://localhost:8080/"
        },
        "id": "i5n6c7ZyP8rB",
        "outputId": "806c6970-51b1-427f-d8bb-62fb00792811"
      },
      "source": [
        "# adding early stopping, in this way I don't have to check number of epochs\n",
        "early_stopping = EarlyStopping(monitor='val_loss', verbose=1, patience=2, \n",
        "                               min_delta = 0.001, mode='min', \n",
        "                               restore_best_weights=True)\n",
        "\n",
        "# fitting the model with l1 regularization\n",
        "# add a shuffle because I haven't reshuffle data after splitting\n",
        "# keep the validation split for check results and when to stop with earlystopping method\n",
        "history_l2 = model_l2.fit(x_train2, y_train2, epochs = 300, batch_size = 128, \n",
        "                          verbose = 2, shuffle = True, validation_split=0.1,\n",
        "                          callbacks=[early_stopping])"
      ],
      "execution_count": null,
      "outputs": [
        {
          "output_type": "stream",
          "name": "stdout",
          "text": [
            "Epoch 1/300\n",
            "89/89 - 1s - loss: 4.2870 - accuracy: 0.3294 - val_loss: 3.9630 - val_accuracy: 0.4937 - 917ms/epoch - 10ms/step\n",
            "Epoch 2/300\n",
            "89/89 - 0s - loss: 3.6981 - accuracy: 0.5924 - val_loss: 3.4941 - val_accuracy: 0.6333 - 362ms/epoch - 4ms/step\n",
            "Epoch 3/300\n",
            "89/89 - 0s - loss: 3.3171 - accuracy: 0.6745 - val_loss: 3.1976 - val_accuracy: 0.6841 - 319ms/epoch - 4ms/step\n",
            "Epoch 4/300\n",
            "89/89 - 0s - loss: 3.0767 - accuracy: 0.7053 - val_loss: 3.0073 - val_accuracy: 0.7000 - 312ms/epoch - 4ms/step\n",
            "Epoch 5/300\n",
            "89/89 - 0s - loss: 2.9109 - accuracy: 0.7247 - val_loss: 2.8645 - val_accuracy: 0.7079 - 319ms/epoch - 4ms/step\n",
            "Epoch 6/300\n",
            "89/89 - 0s - loss: 2.7828 - accuracy: 0.7366 - val_loss: 2.7495 - val_accuracy: 0.7254 - 297ms/epoch - 3ms/step\n",
            "Epoch 7/300\n",
            "89/89 - 0s - loss: 2.6755 - accuracy: 0.7466 - val_loss: 2.6527 - val_accuracy: 0.7310 - 302ms/epoch - 3ms/step\n",
            "Epoch 8/300\n",
            "89/89 - 0s - loss: 2.5818 - accuracy: 0.7555 - val_loss: 2.5646 - val_accuracy: 0.7405 - 316ms/epoch - 4ms/step\n",
            "Epoch 9/300\n",
            "89/89 - 0s - loss: 2.4980 - accuracy: 0.7614 - val_loss: 2.4873 - val_accuracy: 0.7452 - 301ms/epoch - 3ms/step\n",
            "Epoch 10/300\n",
            "89/89 - 0s - loss: 2.4205 - accuracy: 0.7682 - val_loss: 2.4095 - val_accuracy: 0.7563 - 321ms/epoch - 4ms/step\n",
            "Epoch 11/300\n",
            "89/89 - 0s - loss: 2.3489 - accuracy: 0.7748 - val_loss: 2.3442 - val_accuracy: 0.7563 - 352ms/epoch - 4ms/step\n",
            "Epoch 12/300\n",
            "89/89 - 0s - loss: 2.2817 - accuracy: 0.7781 - val_loss: 2.2768 - val_accuracy: 0.7643 - 298ms/epoch - 3ms/step\n",
            "Epoch 13/300\n",
            "89/89 - 0s - loss: 2.2177 - accuracy: 0.7820 - val_loss: 2.2144 - val_accuracy: 0.7675 - 300ms/epoch - 3ms/step\n",
            "Epoch 14/300\n",
            "89/89 - 0s - loss: 2.1578 - accuracy: 0.7856 - val_loss: 2.1554 - val_accuracy: 0.7746 - 303ms/epoch - 3ms/step\n",
            "Epoch 15/300\n",
            "89/89 - 0s - loss: 2.1002 - accuracy: 0.7907 - val_loss: 2.0993 - val_accuracy: 0.7770 - 338ms/epoch - 4ms/step\n",
            "Epoch 16/300\n",
            "89/89 - 0s - loss: 2.0451 - accuracy: 0.7946 - val_loss: 2.0434 - val_accuracy: 0.7833 - 301ms/epoch - 3ms/step\n",
            "Epoch 17/300\n",
            "89/89 - 0s - loss: 1.9928 - accuracy: 0.7967 - val_loss: 1.9946 - val_accuracy: 0.7817 - 292ms/epoch - 3ms/step\n",
            "Epoch 18/300\n",
            "89/89 - 0s - loss: 1.9423 - accuracy: 0.8006 - val_loss: 1.9449 - val_accuracy: 0.7865 - 333ms/epoch - 4ms/step\n",
            "Epoch 19/300\n",
            "89/89 - 0s - loss: 1.8938 - accuracy: 0.8034 - val_loss: 1.8988 - val_accuracy: 0.7849 - 305ms/epoch - 3ms/step\n",
            "Epoch 20/300\n",
            "89/89 - 0s - loss: 1.8477 - accuracy: 0.8065 - val_loss: 1.8525 - val_accuracy: 0.7921 - 304ms/epoch - 3ms/step\n",
            "Epoch 21/300\n",
            "89/89 - 0s - loss: 1.8031 - accuracy: 0.8086 - val_loss: 1.8083 - val_accuracy: 0.7944 - 301ms/epoch - 3ms/step\n",
            "Epoch 22/300\n",
            "89/89 - 0s - loss: 1.7603 - accuracy: 0.8135 - val_loss: 1.7643 - val_accuracy: 0.7984 - 335ms/epoch - 4ms/step\n",
            "Epoch 23/300\n",
            "89/89 - 0s - loss: 1.7189 - accuracy: 0.8159 - val_loss: 1.7267 - val_accuracy: 0.8016 - 306ms/epoch - 3ms/step\n",
            "Epoch 24/300\n",
            "89/89 - 0s - loss: 1.6791 - accuracy: 0.8175 - val_loss: 1.6852 - val_accuracy: 0.8048 - 304ms/epoch - 3ms/step\n",
            "Epoch 25/300\n",
            "89/89 - 0s - loss: 1.6408 - accuracy: 0.8184 - val_loss: 1.6489 - val_accuracy: 0.8063 - 307ms/epoch - 3ms/step\n",
            "Epoch 26/300\n",
            "89/89 - 0s - loss: 1.6033 - accuracy: 0.8214 - val_loss: 1.6116 - val_accuracy: 0.8151 - 313ms/epoch - 4ms/step\n",
            "Epoch 27/300\n",
            "89/89 - 0s - loss: 1.5679 - accuracy: 0.8236 - val_loss: 1.5751 - val_accuracy: 0.8183 - 347ms/epoch - 4ms/step\n",
            "Epoch 28/300\n",
            "89/89 - 0s - loss: 1.5331 - accuracy: 0.8258 - val_loss: 1.5429 - val_accuracy: 0.8190 - 343ms/epoch - 4ms/step\n",
            "Epoch 29/300\n",
            "89/89 - 0s - loss: 1.5001 - accuracy: 0.8277 - val_loss: 1.5091 - val_accuracy: 0.8230 - 328ms/epoch - 4ms/step\n",
            "Epoch 30/300\n",
            "89/89 - 0s - loss: 1.4681 - accuracy: 0.8291 - val_loss: 1.4789 - val_accuracy: 0.8246 - 347ms/epoch - 4ms/step\n",
            "Epoch 31/300\n",
            "89/89 - 0s - loss: 1.4369 - accuracy: 0.8301 - val_loss: 1.4454 - val_accuracy: 0.8310 - 363ms/epoch - 4ms/step\n",
            "Epoch 32/300\n",
            "89/89 - 0s - loss: 1.4070 - accuracy: 0.8313 - val_loss: 1.4184 - val_accuracy: 0.8254 - 335ms/epoch - 4ms/step\n",
            "Epoch 33/300\n",
            "89/89 - 0s - loss: 1.3779 - accuracy: 0.8334 - val_loss: 1.3891 - val_accuracy: 0.8325 - 340ms/epoch - 4ms/step\n",
            "Epoch 34/300\n",
            "89/89 - 0s - loss: 1.3498 - accuracy: 0.8368 - val_loss: 1.3611 - val_accuracy: 0.8373 - 325ms/epoch - 4ms/step\n",
            "Epoch 35/300\n",
            "89/89 - 0s - loss: 1.3230 - accuracy: 0.8371 - val_loss: 1.3362 - val_accuracy: 0.8365 - 344ms/epoch - 4ms/step\n",
            "Epoch 36/300\n",
            "89/89 - 0s - loss: 1.2967 - accuracy: 0.8384 - val_loss: 1.3114 - val_accuracy: 0.8381 - 346ms/epoch - 4ms/step\n",
            "Epoch 37/300\n",
            "89/89 - 0s - loss: 1.2716 - accuracy: 0.8414 - val_loss: 1.2835 - val_accuracy: 0.8405 - 321ms/epoch - 4ms/step\n",
            "Epoch 38/300\n",
            "89/89 - 0s - loss: 1.2470 - accuracy: 0.8423 - val_loss: 1.2616 - val_accuracy: 0.8397 - 353ms/epoch - 4ms/step\n",
            "Epoch 39/300\n",
            "89/89 - 0s - loss: 1.2233 - accuracy: 0.8427 - val_loss: 1.2361 - val_accuracy: 0.8429 - 345ms/epoch - 4ms/step\n",
            "Epoch 40/300\n",
            "89/89 - 0s - loss: 1.2006 - accuracy: 0.8450 - val_loss: 1.2130 - val_accuracy: 0.8476 - 343ms/epoch - 4ms/step\n",
            "Epoch 41/300\n",
            "89/89 - 0s - loss: 1.1785 - accuracy: 0.8475 - val_loss: 1.1920 - val_accuracy: 0.8492 - 334ms/epoch - 4ms/step\n",
            "Epoch 42/300\n",
            "89/89 - 0s - loss: 1.1569 - accuracy: 0.8493 - val_loss: 1.1711 - val_accuracy: 0.8540 - 305ms/epoch - 3ms/step\n",
            "Epoch 43/300\n",
            "89/89 - 0s - loss: 1.1360 - accuracy: 0.8498 - val_loss: 1.1560 - val_accuracy: 0.8508 - 333ms/epoch - 4ms/step\n",
            "Epoch 44/300\n",
            "89/89 - 0s - loss: 1.1164 - accuracy: 0.8495 - val_loss: 1.1314 - val_accuracy: 0.8500 - 316ms/epoch - 4ms/step\n",
            "Epoch 45/300\n",
            "89/89 - 0s - loss: 1.0967 - accuracy: 0.8528 - val_loss: 1.1126 - val_accuracy: 0.8579 - 316ms/epoch - 4ms/step\n",
            "Epoch 46/300\n",
            "89/89 - 0s - loss: 1.0780 - accuracy: 0.8526 - val_loss: 1.0972 - val_accuracy: 0.8556 - 313ms/epoch - 4ms/step\n",
            "Epoch 47/300\n",
            "89/89 - 0s - loss: 1.0600 - accuracy: 0.8547 - val_loss: 1.0762 - val_accuracy: 0.8556 - 299ms/epoch - 3ms/step\n",
            "Epoch 48/300\n",
            "89/89 - 0s - loss: 1.0423 - accuracy: 0.8559 - val_loss: 1.0586 - val_accuracy: 0.8579 - 304ms/epoch - 3ms/step\n",
            "Epoch 49/300\n",
            "89/89 - 0s - loss: 1.0252 - accuracy: 0.8563 - val_loss: 1.0426 - val_accuracy: 0.8603 - 312ms/epoch - 4ms/step\n",
            "Epoch 50/300\n",
            "89/89 - 0s - loss: 1.0087 - accuracy: 0.8580 - val_loss: 1.0270 - val_accuracy: 0.8571 - 317ms/epoch - 4ms/step\n",
            "Epoch 51/300\n",
            "89/89 - 0s - loss: 0.9927 - accuracy: 0.8583 - val_loss: 1.0090 - val_accuracy: 0.8587 - 307ms/epoch - 3ms/step\n",
            "Epoch 52/300\n",
            "89/89 - 0s - loss: 0.9772 - accuracy: 0.8583 - val_loss: 0.9937 - val_accuracy: 0.8635 - 337ms/epoch - 4ms/step\n",
            "Epoch 53/300\n",
            "89/89 - 0s - loss: 0.9624 - accuracy: 0.8612 - val_loss: 0.9811 - val_accuracy: 0.8603 - 360ms/epoch - 4ms/step\n",
            "Epoch 54/300\n",
            "89/89 - 0s - loss: 0.9477 - accuracy: 0.8630 - val_loss: 0.9653 - val_accuracy: 0.8643 - 310ms/epoch - 3ms/step\n",
            "Epoch 55/300\n",
            "89/89 - 0s - loss: 0.9340 - accuracy: 0.8643 - val_loss: 0.9538 - val_accuracy: 0.8635 - 340ms/epoch - 4ms/step\n",
            "Epoch 56/300\n",
            "89/89 - 0s - loss: 0.9202 - accuracy: 0.8648 - val_loss: 0.9378 - val_accuracy: 0.8627 - 291ms/epoch - 3ms/step\n",
            "Epoch 57/300\n",
            "89/89 - 0s - loss: 0.9071 - accuracy: 0.8650 - val_loss: 0.9274 - val_accuracy: 0.8659 - 302ms/epoch - 3ms/step\n",
            "Epoch 58/300\n",
            "89/89 - 0s - loss: 0.8943 - accuracy: 0.8677 - val_loss: 0.9133 - val_accuracy: 0.8659 - 322ms/epoch - 4ms/step\n",
            "Epoch 59/300\n",
            "89/89 - 0s - loss: 0.8819 - accuracy: 0.8678 - val_loss: 0.9009 - val_accuracy: 0.8690 - 306ms/epoch - 3ms/step\n",
            "Epoch 60/300\n",
            "89/89 - 0s - loss: 0.8699 - accuracy: 0.8697 - val_loss: 0.8906 - val_accuracy: 0.8675 - 318ms/epoch - 4ms/step\n",
            "Epoch 61/300\n",
            "89/89 - 0s - loss: 0.8584 - accuracy: 0.8687 - val_loss: 0.8783 - val_accuracy: 0.8706 - 373ms/epoch - 4ms/step\n",
            "Epoch 62/300\n",
            "89/89 - 0s - loss: 0.8470 - accuracy: 0.8702 - val_loss: 0.8675 - val_accuracy: 0.8722 - 318ms/epoch - 4ms/step\n",
            "Epoch 63/300\n",
            "89/89 - 0s - loss: 0.8364 - accuracy: 0.8713 - val_loss: 0.8567 - val_accuracy: 0.8706 - 333ms/epoch - 4ms/step\n",
            "Epoch 64/300\n",
            "89/89 - 0s - loss: 0.8256 - accuracy: 0.8714 - val_loss: 0.8452 - val_accuracy: 0.8746 - 359ms/epoch - 4ms/step\n",
            "Epoch 65/300\n",
            "89/89 - 0s - loss: 0.8157 - accuracy: 0.8732 - val_loss: 0.8345 - val_accuracy: 0.8746 - 338ms/epoch - 4ms/step\n",
            "Epoch 66/300\n",
            "89/89 - 0s - loss: 0.8058 - accuracy: 0.8740 - val_loss: 0.8259 - val_accuracy: 0.8738 - 333ms/epoch - 4ms/step\n",
            "Epoch 67/300\n",
            "89/89 - 0s - loss: 0.7961 - accuracy: 0.8752 - val_loss: 0.8154 - val_accuracy: 0.8762 - 301ms/epoch - 3ms/step\n",
            "Epoch 68/300\n",
            "89/89 - 0s - loss: 0.7867 - accuracy: 0.8755 - val_loss: 0.8076 - val_accuracy: 0.8786 - 340ms/epoch - 4ms/step\n",
            "Epoch 69/300\n",
            "89/89 - 0s - loss: 0.7777 - accuracy: 0.8761 - val_loss: 0.7984 - val_accuracy: 0.8746 - 340ms/epoch - 4ms/step\n",
            "Epoch 70/300\n",
            "89/89 - 0s - loss: 0.7689 - accuracy: 0.8775 - val_loss: 0.7892 - val_accuracy: 0.8754 - 314ms/epoch - 4ms/step\n",
            "Epoch 71/300\n",
            "89/89 - 0s - loss: 0.7606 - accuracy: 0.8784 - val_loss: 0.7824 - val_accuracy: 0.8762 - 347ms/epoch - 4ms/step\n",
            "Epoch 72/300\n",
            "89/89 - 0s - loss: 0.7522 - accuracy: 0.8784 - val_loss: 0.7733 - val_accuracy: 0.8746 - 334ms/epoch - 4ms/step\n",
            "Epoch 73/300\n",
            "89/89 - 0s - loss: 0.7440 - accuracy: 0.8808 - val_loss: 0.7678 - val_accuracy: 0.8730 - 351ms/epoch - 4ms/step\n",
            "Epoch 74/300\n",
            "89/89 - 0s - loss: 0.7363 - accuracy: 0.8801 - val_loss: 0.7611 - val_accuracy: 0.8730 - 322ms/epoch - 4ms/step\n",
            "Epoch 75/300\n",
            "89/89 - 0s - loss: 0.7290 - accuracy: 0.8812 - val_loss: 0.7506 - val_accuracy: 0.8770 - 357ms/epoch - 4ms/step\n",
            "Epoch 76/300\n",
            "89/89 - 0s - loss: 0.7216 - accuracy: 0.8811 - val_loss: 0.7427 - val_accuracy: 0.8802 - 310ms/epoch - 3ms/step\n",
            "Epoch 77/300\n",
            "89/89 - 0s - loss: 0.7146 - accuracy: 0.8824 - val_loss: 0.7360 - val_accuracy: 0.8794 - 331ms/epoch - 4ms/step\n",
            "Epoch 78/300\n",
            "89/89 - 0s - loss: 0.7076 - accuracy: 0.8824 - val_loss: 0.7315 - val_accuracy: 0.8770 - 298ms/epoch - 3ms/step\n",
            "Epoch 79/300\n",
            "89/89 - 0s - loss: 0.7008 - accuracy: 0.8826 - val_loss: 0.7246 - val_accuracy: 0.8810 - 304ms/epoch - 3ms/step\n",
            "Epoch 80/300\n",
            "89/89 - 0s - loss: 0.6946 - accuracy: 0.8847 - val_loss: 0.7182 - val_accuracy: 0.8810 - 325ms/epoch - 4ms/step\n",
            "Epoch 81/300\n",
            "89/89 - 0s - loss: 0.6882 - accuracy: 0.8848 - val_loss: 0.7118 - val_accuracy: 0.8833 - 306ms/epoch - 3ms/step\n",
            "Epoch 82/300\n",
            "89/89 - 0s - loss: 0.6822 - accuracy: 0.8853 - val_loss: 0.7071 - val_accuracy: 0.8810 - 359ms/epoch - 4ms/step\n",
            "Epoch 83/300\n",
            "89/89 - 0s - loss: 0.6762 - accuracy: 0.8853 - val_loss: 0.7017 - val_accuracy: 0.8794 - 344ms/epoch - 4ms/step\n",
            "Epoch 84/300\n",
            "89/89 - 0s - loss: 0.6704 - accuracy: 0.8870 - val_loss: 0.6935 - val_accuracy: 0.8825 - 343ms/epoch - 4ms/step\n",
            "Epoch 85/300\n",
            "89/89 - 0s - loss: 0.6645 - accuracy: 0.8862 - val_loss: 0.6907 - val_accuracy: 0.8802 - 332ms/epoch - 4ms/step\n",
            "Epoch 86/300\n",
            "89/89 - 0s - loss: 0.6593 - accuracy: 0.8882 - val_loss: 0.6851 - val_accuracy: 0.8833 - 331ms/epoch - 4ms/step\n",
            "Epoch 87/300\n",
            "89/89 - 0s - loss: 0.6542 - accuracy: 0.8892 - val_loss: 0.6811 - val_accuracy: 0.8817 - 314ms/epoch - 4ms/step\n",
            "Epoch 88/300\n",
            "89/89 - 0s - loss: 0.6490 - accuracy: 0.8892 - val_loss: 0.6736 - val_accuracy: 0.8849 - 350ms/epoch - 4ms/step\n",
            "Epoch 89/300\n",
            "89/89 - 0s - loss: 0.6440 - accuracy: 0.8900 - val_loss: 0.6692 - val_accuracy: 0.8825 - 312ms/epoch - 4ms/step\n",
            "Epoch 90/300\n",
            "89/89 - 0s - loss: 0.6392 - accuracy: 0.8893 - val_loss: 0.6655 - val_accuracy: 0.8841 - 303ms/epoch - 3ms/step\n",
            "Epoch 91/300\n",
            "89/89 - 0s - loss: 0.6344 - accuracy: 0.8915 - val_loss: 0.6594 - val_accuracy: 0.8849 - 357ms/epoch - 4ms/step\n",
            "Epoch 92/300\n",
            "89/89 - 0s - loss: 0.6298 - accuracy: 0.8923 - val_loss: 0.6565 - val_accuracy: 0.8825 - 344ms/epoch - 4ms/step\n",
            "Epoch 93/300\n",
            "89/89 - 0s - loss: 0.6252 - accuracy: 0.8919 - val_loss: 0.6508 - val_accuracy: 0.8833 - 302ms/epoch - 3ms/step\n",
            "Epoch 94/300\n",
            "89/89 - 0s - loss: 0.6210 - accuracy: 0.8911 - val_loss: 0.6481 - val_accuracy: 0.8817 - 346ms/epoch - 4ms/step\n",
            "Epoch 95/300\n",
            "89/89 - 0s - loss: 0.6165 - accuracy: 0.8944 - val_loss: 0.6425 - val_accuracy: 0.8873 - 319ms/epoch - 4ms/step\n",
            "Epoch 96/300\n",
            "89/89 - 0s - loss: 0.6128 - accuracy: 0.8920 - val_loss: 0.6386 - val_accuracy: 0.8881 - 303ms/epoch - 3ms/step\n",
            "Epoch 97/300\n",
            "89/89 - 0s - loss: 0.6087 - accuracy: 0.8937 - val_loss: 0.6355 - val_accuracy: 0.8889 - 315ms/epoch - 4ms/step\n",
            "Epoch 98/300\n",
            "89/89 - 0s - loss: 0.6047 - accuracy: 0.8953 - val_loss: 0.6337 - val_accuracy: 0.8865 - 310ms/epoch - 3ms/step\n",
            "Epoch 99/300\n",
            "89/89 - 0s - loss: 0.6009 - accuracy: 0.8961 - val_loss: 0.6281 - val_accuracy: 0.8857 - 296ms/epoch - 3ms/step\n",
            "Epoch 100/300\n",
            "89/89 - 0s - loss: 0.5970 - accuracy: 0.8961 - val_loss: 0.6247 - val_accuracy: 0.8889 - 320ms/epoch - 4ms/step\n",
            "Epoch 101/300\n",
            "89/89 - 0s - loss: 0.5935 - accuracy: 0.8964 - val_loss: 0.6209 - val_accuracy: 0.8865 - 312ms/epoch - 4ms/step\n",
            "Epoch 102/300\n",
            "89/89 - 0s - loss: 0.5902 - accuracy: 0.8971 - val_loss: 0.6181 - val_accuracy: 0.8897 - 304ms/epoch - 3ms/step\n",
            "Epoch 103/300\n",
            "89/89 - 0s - loss: 0.5866 - accuracy: 0.8975 - val_loss: 0.6138 - val_accuracy: 0.8881 - 321ms/epoch - 4ms/step\n",
            "Epoch 104/300\n",
            "89/89 - 0s - loss: 0.5832 - accuracy: 0.8984 - val_loss: 0.6102 - val_accuracy: 0.8905 - 319ms/epoch - 4ms/step\n",
            "Epoch 105/300\n",
            "89/89 - 0s - loss: 0.5797 - accuracy: 0.8985 - val_loss: 0.6078 - val_accuracy: 0.8865 - 310ms/epoch - 3ms/step\n",
            "Epoch 106/300\n",
            "89/89 - 0s - loss: 0.5766 - accuracy: 0.8990 - val_loss: 0.6044 - val_accuracy: 0.8897 - 327ms/epoch - 4ms/step\n",
            "Epoch 107/300\n",
            "89/89 - 0s - loss: 0.5736 - accuracy: 0.9002 - val_loss: 0.6007 - val_accuracy: 0.8905 - 363ms/epoch - 4ms/step\n",
            "Epoch 108/300\n",
            "89/89 - 0s - loss: 0.5706 - accuracy: 0.9004 - val_loss: 0.5995 - val_accuracy: 0.8905 - 296ms/epoch - 3ms/step\n",
            "Epoch 109/300\n",
            "89/89 - 0s - loss: 0.5676 - accuracy: 0.9004 - val_loss: 0.5954 - val_accuracy: 0.8944 - 311ms/epoch - 3ms/step\n",
            "Epoch 110/300\n",
            "89/89 - 0s - loss: 0.5646 - accuracy: 0.9003 - val_loss: 0.5925 - val_accuracy: 0.8897 - 335ms/epoch - 4ms/step\n",
            "Epoch 111/300\n",
            "89/89 - 0s - loss: 0.5620 - accuracy: 0.9010 - val_loss: 0.5926 - val_accuracy: 0.8897 - 310ms/epoch - 3ms/step\n",
            "Epoch 112/300\n",
            "89/89 - 0s - loss: 0.5588 - accuracy: 0.9021 - val_loss: 0.5886 - val_accuracy: 0.8968 - 342ms/epoch - 4ms/step\n",
            "Epoch 113/300\n",
            "89/89 - 0s - loss: 0.5567 - accuracy: 0.9025 - val_loss: 0.5864 - val_accuracy: 0.8913 - 342ms/epoch - 4ms/step\n",
            "Epoch 114/300\n",
            "89/89 - 0s - loss: 0.5538 - accuracy: 0.9026 - val_loss: 0.5814 - val_accuracy: 0.8952 - 299ms/epoch - 3ms/step\n",
            "Epoch 115/300\n",
            "89/89 - 0s - loss: 0.5512 - accuracy: 0.9030 - val_loss: 0.5834 - val_accuracy: 0.8905 - 329ms/epoch - 4ms/step\n",
            "Epoch 116/300\n",
            "89/89 - 0s - loss: 0.5487 - accuracy: 0.9033 - val_loss: 0.5783 - val_accuracy: 0.8984 - 336ms/epoch - 4ms/step\n",
            "Epoch 117/300\n",
            "89/89 - 0s - loss: 0.5463 - accuracy: 0.9030 - val_loss: 0.5759 - val_accuracy: 0.8937 - 361ms/epoch - 4ms/step\n",
            "Epoch 118/300\n",
            "89/89 - 0s - loss: 0.5440 - accuracy: 0.9036 - val_loss: 0.5752 - val_accuracy: 0.8968 - 315ms/epoch - 4ms/step\n",
            "Epoch 119/300\n",
            "89/89 - 0s - loss: 0.5416 - accuracy: 0.9040 - val_loss: 0.5737 - val_accuracy: 0.8929 - 317ms/epoch - 4ms/step\n",
            "Epoch 120/300\n",
            "89/89 - 0s - loss: 0.5390 - accuracy: 0.9053 - val_loss: 0.5684 - val_accuracy: 0.8952 - 311ms/epoch - 3ms/step\n",
            "Epoch 121/300\n",
            "89/89 - 0s - loss: 0.5370 - accuracy: 0.9046 - val_loss: 0.5695 - val_accuracy: 0.8952 - 342ms/epoch - 4ms/step\n",
            "Epoch 122/300\n",
            "Restoring model weights from the end of the best epoch: 120.\n",
            "89/89 - 0s - loss: 0.5347 - accuracy: 0.9056 - val_loss: 0.5674 - val_accuracy: 0.9000 - 314ms/epoch - 4ms/step\n",
            "Epoch 00122: early stopping\n"
          ]
        }
      ]
    },
    {
      "cell_type": "code",
      "metadata": {
        "colab": {
          "base_uri": "https://localhost:8080/",
          "height": 791
        },
        "id": "NN0W6F_aQGLs",
        "outputId": "f77b7986-f69d-46b0-a7ff-70e25bf3f0ac"
      },
      "source": [
        "plot_history(history_l2)"
      ],
      "execution_count": null,
      "outputs": [
        {
          "output_type": "display_data",
          "data": {
            "image/png": "[encoded data removed]",
            "text/plain": [
              "<Figure size 936x432 with 1 Axes>"
            ]
          },
          "metadata": {
            "needs_background": "light"
          }
        },
        {
          "output_type": "display_data",
          "data": {
            "image/png": "[encoded data removed]",
            "text/plain": [
              "<Figure size 936x432 with 1 Axes>"
            ]
          },
          "metadata": {
            "needs_background": "light"
          }
        }
      ]
    },
    {
      "cell_type": "markdown",
      "metadata": {
        "id": "sEuNRxEQPgUl"
      },
      "source": [
        "<p align='justify'>\n",
        "Il modello sembra essere ottimale rispetto alle possibili problematiche di under/overfitting se ci riferiamo alla loss. Per quanto riguarda l'accuracy si possono invece notare dei piccoli cambiamenti in positivo e negativo durante tutto il tranining, nonostante ciò l'andamento generico tra training set e validation set è moldo simile. Tuttavia questo modello richiede <i> un numero abbastanza alto di epoche </i> durante la fase di training.\n",
        "</p>"
      ]
    },
    {
      "cell_type": "markdown",
      "metadata": {
        "id": "BKhzXNd-C24D"
      },
      "source": [
        "#### L2 results\n",
        "Verifico i risultati ottenuti con L2 in termini di performance del modello utilizzando il test set appositamente estratto in precedenza."
      ]
    },
    {
      "cell_type": "code",
      "metadata": {
        "colab": {
          "base_uri": "https://localhost:8080/",
          "height": 662
        },
        "id": "0aA8zjvZQNk-",
        "outputId": "8df71238-a531-4d88-b8ba-a443def9b9dd"
      },
      "source": [
        "y_hat_l2, cl_l2 = evaluate_predition_ffnn(model_l2, x_test2, y_test2)"
      ],
      "execution_count": null,
      "outputs": [
        {
          "output_type": "stream",
          "name": "stdout",
          "text": [
            "\n",
            "Classification Report\n",
            "               precision    recall  f1-score   support\n",
            "\n",
            "          16       0.92      0.91      0.91       129\n",
            "          17       0.82      0.85      0.83       117\n",
            "          18       0.82      0.82      0.82       124\n",
            "          19       0.96      0.94      0.95       134\n",
            "          20       0.89      0.86      0.87       132\n",
            "          21       0.85      0.87      0.86       128\n",
            "          22       0.89      0.87      0.88       145\n",
            "          23       0.86      0.93      0.89       125\n",
            "          24       0.88      0.88      0.88       137\n",
            "          25       0.84      0.84      0.84       140\n",
            "          26       0.92      0.90      0.91        89\n",
            "\n",
            "    accuracy                           0.88      1400\n",
            "   macro avg       0.88      0.88      0.88      1400\n",
            "weighted avg       0.88      0.88      0.88      1400\n",
            "\n"
          ]
        },
        {
          "output_type": "display_data",
          "data": {
            "image/png": "[encoded data removed]",
            "text/plain": [
              "<Figure size 432x288 with 2 Axes>"
            ]
          },
          "metadata": {
            "needs_background": "light"
          }
        }
      ]
    },
    {
      "cell_type": "markdown",
      "metadata": {
        "id": "jgnl6FTjQSQI"
      },
      "source": [
        "<p align='justify'>\n",
        "I risultati ottenuti sembrano abbastanza buoni, anche se l'accuracy si ferma a $0.88$. In particolare si segnala la problematica della $W$ che viene spesso interpretata come un $V$. <br>\n",
        "Durante l'implementazione ho provato anche ad aggiungere altri layer, invece che uno solo da 128, ma le performance non aumentavano in modo significativo. Per questo motivo ho deciso di mantenere il modello più semplice tra quelli testati con regolarizzazione L2.\n",
        "</p>"
      ]
    },
    {
      "cell_type": "markdown",
      "metadata": {
        "id": "KSMQbC9eCVRs"
      },
      "source": [
        "### FFNN with dropout regularization\n",
        "<p align='justify'>\n",
        "Invece di applicare la regolarizzazione L2, come nel caso precedente, provo ad introdurre dei layer di dropout per vedere se riesco a migliorare le performance del modello. <br>\n",
        "Anche in questo caso la configurazione del modello proposta è stata raggiunta dopo diversi tentativi, inoltre si utilizza lo stesso early stopping definito in precedenza per fermare il training del modello se necessario. Tra le varie opzioni egualmente valide ho scelto quella più generica e con meno neuroni richiesti per l'implementazione.\n",
        "</p>"
      ]
    },
    {
      "cell_type": "code",
      "metadata": {
        "id": "awsJusjoJTPI"
      },
      "source": [
        "model_do = Sequential()\n",
        "\n",
        "# 2xFC @ 256, non linear\n",
        "model_do.add(Dense(256, activation = \"relu\", input_shape=(x_train2.shape[1:])))\n",
        "model_do.add(Dense(256, activation = \"relu\"))\n",
        "model_do.add(Dropout(0.5)) # dropout\n",
        "# FC @ 64, non linear\n",
        "model_do.add(Dense(64, activation = \"relu\"))\n",
        "model_do.add(Dropout(0.55)) # dropout\n",
        "# FC @ 16, non linear (no dropout)\n",
        "model_do.add(Dense(16, activation = \"relu\"))\n",
        "\n",
        "# final layer\n",
        "model_do.add(Dense(n_labels, activation=\"softmax\"))\n",
        "\n",
        "# optimization\n",
        "model_do.compile(optimizer = \"adam\", loss = \"categorical_crossentropy\", \n",
        "              metrics = [\"accuracy\"])"
      ],
      "execution_count": null,
      "outputs": []
    },
    {
      "cell_type": "code",
      "metadata": {
        "colab": {
          "base_uri": "https://localhost:8080/",
          "height": 105
        },
        "id": "hac0qTEx79Jp",
        "outputId": "e0d7f6a1-92a8-4825-92e2-965983e2e355"
      },
      "source": [
        "# visualizing model\n",
        "plot_model(model_do, show_shapes=True, rankdir=\"LR\")"
      ],
      "execution_count": null,
      "outputs": [
        {
          "output_type": "execute_result",
          "data": {
            "image/png": "[encoded data removed]",
            "text/plain": [
              "<IPython.core.display.Image object>"
            ]
          },
          "metadata": {},
          "execution_count": 145
        }
      ]
    },
    {
      "cell_type": "code",
      "metadata": {
        "colab": {
          "base_uri": "https://localhost:8080/"
        },
        "id": "2vBI_uZmJ77V",
        "outputId": "f8ecfb3d-7bfb-46eb-efbd-eacf8a7f3987"
      },
      "source": [
        "# fitting the model with dropout regularization\n",
        "# add a shuffle because I haven't reshuffle data after splitting\n",
        "# keep the validation split for check results and when to stop with earlystopping method\n",
        "history_do = model_do.fit(x_train2, y_train2, epochs = 300, batch_size = 64, \n",
        "                          verbose = 2, shuffle = True, validation_split=0.1,\n",
        "                          callbacks=[early_stopping])"
      ],
      "execution_count": null,
      "outputs": [
        {
          "output_type": "stream",
          "name": "stdout",
          "text": [
            "Epoch 1/300\n",
            "178/178 - 2s - loss: 1.5328 - accuracy: 0.4811 - val_loss: 0.7138 - val_accuracy: 0.7857 - 2s/epoch - 9ms/step\n",
            "Epoch 2/300\n",
            "178/178 - 1s - loss: 0.7562 - accuracy: 0.7705 - val_loss: 0.3739 - val_accuracy: 0.8913 - 748ms/epoch - 4ms/step\n",
            "Epoch 3/300\n",
            "178/178 - 1s - loss: 0.5098 - accuracy: 0.8526 - val_loss: 0.3062 - val_accuracy: 0.9111 - 729ms/epoch - 4ms/step\n",
            "Epoch 4/300\n",
            "178/178 - 1s - loss: 0.4034 - accuracy: 0.8867 - val_loss: 0.2626 - val_accuracy: 0.9246 - 801ms/epoch - 4ms/step\n",
            "Epoch 5/300\n",
            "178/178 - 1s - loss: 0.3349 - accuracy: 0.9083 - val_loss: 0.2501 - val_accuracy: 0.9302 - 755ms/epoch - 4ms/step\n",
            "Epoch 6/300\n",
            "178/178 - 1s - loss: 0.2782 - accuracy: 0.9213 - val_loss: 0.2365 - val_accuracy: 0.9310 - 767ms/epoch - 4ms/step\n",
            "Epoch 7/300\n",
            "178/178 - 1s - loss: 0.2366 - accuracy: 0.9340 - val_loss: 0.2300 - val_accuracy: 0.9373 - 764ms/epoch - 4ms/step\n",
            "Epoch 8/300\n",
            "178/178 - 1s - loss: 0.2062 - accuracy: 0.9421 - val_loss: 0.2120 - val_accuracy: 0.9468 - 757ms/epoch - 4ms/step\n",
            "Epoch 9/300\n",
            "178/178 - 1s - loss: 0.1818 - accuracy: 0.9499 - val_loss: 0.2324 - val_accuracy: 0.9405 - 726ms/epoch - 4ms/step\n",
            "Epoch 10/300\n",
            "178/178 - 1s - loss: 0.1728 - accuracy: 0.9507 - val_loss: 0.2245 - val_accuracy: 0.9468 - 734ms/epoch - 4ms/step\n",
            "Epoch 11/300\n",
            "Restoring model weights from the end of the best epoch: 8.\n",
            "178/178 - 1s - loss: 0.1519 - accuracy: 0.9582 - val_loss: 0.2609 - val_accuracy: 0.9373 - 732ms/epoch - 4ms/step\n",
            "Epoch 00011: early stopping\n"
          ]
        }
      ]
    },
    {
      "cell_type": "code",
      "metadata": {
        "colab": {
          "base_uri": "https://localhost:8080/",
          "height": 791
        },
        "id": "gX4puOLoKxaM",
        "outputId": "7cbf1e6b-22bd-4632-e6b9-832ffe247830"
      },
      "source": [
        "plot_history(history_do)"
      ],
      "execution_count": null,
      "outputs": [
        {
          "output_type": "display_data",
          "data": {
            "image/png": "[encoded data removed]",
            "text/plain": [
              "<Figure size 936x432 with 1 Axes>"
            ]
          },
          "metadata": {
            "needs_background": "light"
          }
        },
        {
          "output_type": "display_data",
          "data": {
            "image/png": "[encoded data removed]",
            "text/plain": [
              "<Figure size 936x432 with 1 Axes>"
            ]
          },
          "metadata": {
            "needs_background": "light"
          }
        }
      ]
    },
    {
      "cell_type": "markdown",
      "metadata": {
        "id": "uyXRgY_gPv_s"
      },
      "source": [
        "<p align='justify'>\n",
        "In questo caso il modello segue l'andamento della training loss, anche se nelle prime epoche diverge abbastanza. Tuttavia poi l'andamento risulta essere molto simile e non segnala particolari problemi di underfitting come farebbero pensare le prime due epoche. <br>\n",
        "Si segnala inoltre che l'early stopping riporta i pesi all'iterazione migliore e non utilizza gli ultimi, questo esclude quindi i pesi delle ultime due epoche che sembrano portare il modello all'overfitting\n",
        "</p>"
      ]
    },
    {
      "cell_type": "markdown",
      "metadata": {
        "id": "wL0mFHMlPYWK"
      },
      "source": [
        "#### Dropout results\n",
        "Verifico i risultati ottenuti con dropout in termini di performance del modello utilizzando il test set appositamente estratto in precedenza."
      ]
    },
    {
      "cell_type": "code",
      "metadata": {
        "colab": {
          "base_uri": "https://localhost:8080/",
          "height": 662
        },
        "id": "Zm0sAInDMowG",
        "outputId": "e0d38375-3002-4845-e321-5f76bdd96d7e"
      },
      "source": [
        "y_hat_do, cl_do = evaluate_predition_ffnn(model_do, x_test2, y_test2)"
      ],
      "execution_count": null,
      "outputs": [
        {
          "output_type": "stream",
          "name": "stdout",
          "text": [
            "\n",
            "Classification Report\n",
            "               precision    recall  f1-score   support\n",
            "\n",
            "          16       0.93      0.94      0.93       129\n",
            "          17       0.87      0.92      0.90       117\n",
            "          18       0.96      0.90      0.93       124\n",
            "          19       0.97      0.96      0.97       134\n",
            "          20       0.97      0.96      0.97       132\n",
            "          21       0.90      0.92      0.91       128\n",
            "          22       0.94      0.94      0.94       145\n",
            "          23       0.93      0.96      0.94       125\n",
            "          24       0.95      0.93      0.94       137\n",
            "          25       0.95      0.89      0.92       140\n",
            "          26       0.92      0.97      0.95        89\n",
            "\n",
            "    accuracy                           0.94      1400\n",
            "   macro avg       0.94      0.94      0.94      1400\n",
            "weighted avg       0.94      0.94      0.94      1400\n",
            "\n"
          ]
        },
        {
          "output_type": "display_data",
          "data": {
            "image/png": "[encoded data removed]",
            "text/plain": [
              "<Figure size 432x288 with 2 Axes>"
            ]
          },
          "metadata": {
            "needs_background": "light"
          }
        }
      ]
    },
    {
      "cell_type": "markdown",
      "metadata": {
        "id": "sTBquDgMQhod"
      },
      "source": [
        "<p align='justify'>\n",
        "Questo modello evidenzia un forte miglioramento dell'accuracy che arriva a circa $0.94$ a livello di <b>macro avg</b>! Ho scelto di considerare maggiormente come metrica la macro avg, invece dell'accuracy, perchè è una media dell'f1-score ottenuto sulle singole label. <br>\n",
        "Il modello con dropout risulta quindi essere meglio rispetto al modello con regolarizzazione L2, sia a livello di accuracy ma anche perchè richiede molte meno epoche per essere trainato.\n",
        "</p>"
      ]
    },
    {
      "cell_type": "code",
      "metadata": {
        "colab": {
          "base_uri": "https://localhost:8080/"
        },
        "id": "5Wbt0urDOklc",
        "outputId": "2d4014bd-ea28-4385-d2bf-d1d38060b10d"
      },
      "source": [
        "print(\"numero di epoche con regolarizzazione l2:\", len(history_l2.epoch))\n",
        "print(\"numero di epoche con dropout:\", len(history_do.epoch))\n",
        "print(\"Macro avg (f1-score) finale con regolarizzazione l2:\",cl_l2['macro avg']['f1-score'])\n",
        "print(\"Macro avg (f1-score) con dropout:\",cl_do['macro avg']['f1-score'])"
      ],
      "execution_count": null,
      "outputs": [
        {
          "output_type": "stream",
          "name": "stdout",
          "text": [
            "numero di epoche con regolarizzazione l2: 134\n",
            "numero di epoche con dropout: 11\n",
            "Macro avg (f1-score) finale con regolarizzazione l2: 0.8793298260599675\n",
            "Macro avg (f1-score)  con dropout: 0.9355618910784519\n"
          ]
        }
      ]
    },
    {
      "cell_type": "markdown",
      "metadata": {
        "id": "bQmIR4O9t3Uf"
      },
      "source": [
        "### Make predictions\n",
        "<p align='justify'>\n",
        "Utilizzo il modello con regolarizzazione dropout per calcolare le previsioni sul test set caricato nella sezione \"Loading Data\" e esporto il risultato. Per poter effettuare la predizione su questo test set per prima cosa applico lo stesso preprocessing applicato al traninig set. <br>\n",
        "Le perfomance su questo test set mi aspetto che siano molto simili a quelle ottenute dal validation set e quelle commentate nella sezione results del dropout, in cui sono state calcolate le predizioni su un test set aggiuntivo appositamente estratto dai dati di training.\n",
        "</p>"
      ]
    },
    {
      "cell_type": "code",
      "metadata": {
        "id": "lyqgszNytSfy"
      },
      "source": [
        "# apply preprocessing phase\n",
        "x_test = preprocessing_train(x_test)"
      ],
      "execution_count": null,
      "outputs": []
    },
    {
      "cell_type": "code",
      "metadata": {
        "id": "S1vjkYKcv47z"
      },
      "source": [
        "# get prediction for test set\n",
        "yhat_test = model_do.predict(x_test)\n",
        "# get the top score\n",
        "yhat_test = yhat_test.argmax(axis=1)\n",
        "\n",
        "# reconvert score from [0,10] to [16,26]\n",
        "yhat_test = yhat_test + 16"
      ],
      "execution_count": null,
      "outputs": []
    },
    {
      "cell_type": "markdown",
      "metadata": {
        "id": "YcAQYrcbxJJN"
      },
      "source": [
        "#### OPTIONAL - exporting prediction"
      ]
    },
    {
      "cell_type": "code",
      "metadata": {
        "id": "SzhcjxUsxM8S"
      },
      "source": [
        "# write prediction to .txt file\n",
        "with open(\"Riccardo_Confalonieri_830404_score2.txt\", 'w') as f:\n",
        "    for item in yhat_test:\n",
        "        f.write(str(item)+\",\\n\")"
      ],
      "execution_count": null,
      "outputs": []
    },
    {
      "cell_type": "markdown",
      "metadata": {
        "id": "byPMKAxXu13k"
      },
      "source": [
        "## Auto-encoder model\n",
        "<p align='justify'>\n",
        "Sfruttando gli stessi dati utilizzati finora creo un modello autoencoder. In particolare valuterò prima visivamente l'encoding e poi applico un modello si classificazione di tipo supervisionato a partire proprio dall'encoder sviluppato.\n",
        "</p>"
      ]
    },
    {
      "cell_type": "code",
      "metadata": {
        "id": "HFKl7jeavNJY"
      },
      "source": [
        "# size of encoded representations\n",
        "encoding_dim = 64  # 64 floats -> compression of factor 12.25\n",
        "\n",
        "# define input layer\n",
        "input_img = Input(shape=x_train2.shape[1:])\n",
        "# first layer for encode the input (784 -> 128)\n",
        "encoded = Dense(128, activation='relu')(input_img)\n",
        "# second layer for encode the input (784 -> 32)\n",
        "encoded = Dense(encoding_dim, activation='relu')(encoded)\n",
        "\n",
        "# \"decoded\" is the lossy reconstruction of the input (32 -> 128)\n",
        "decoded = Dense(128, activation='relu')(encoded)\n",
        "# second decoding layer (128 -> 784)\n",
        "decoded = Dense(784, activation='sigmoid')(decoded)\n",
        "\n",
        "# this model maps an input to its reconstruction\n",
        "autoencoder = Model(input_img, decoded)\n",
        "\n",
        "# optimization function. With mse I'm done a regression for each pixel values\n",
        "autoencoder.compile(optimizer=\"adam\", loss='binary_crossentropy', \n",
        "                    metrics = [\"mse\"])"
      ],
      "execution_count": null,
      "outputs": []
    },
    {
      "cell_type": "code",
      "metadata": {
        "colab": {
          "base_uri": "https://localhost:8080/",
          "height": 139
        },
        "id": "oIW874J_8m2M",
        "outputId": "add3dcf1-76ce-4e95-8258-5b68590df70d"
      },
      "source": [
        "# visualizing model\n",
        "plot_model(autoencoder, show_shapes=True, rankdir=\"LR\")"
      ],
      "execution_count": null,
      "outputs": [
        {
          "output_type": "execute_result",
          "data": {
            "image/png": "[encoded data removed]",
            "text/plain": [
              "<IPython.core.display.Image object>"
            ]
          },
          "metadata": {},
          "execution_count": 13
        }
      ]
    },
    {
      "cell_type": "code",
      "metadata": {
        "colab": {
          "base_uri": "https://localhost:8080/"
        },
        "id": "-nEpFPByygwk",
        "outputId": "5d009024-d8fe-4cad-c8e8-5d8a08aa0d06"
      },
      "source": [
        "# encoding the x_train\n",
        "history_autoen = autoencoder.fit(x_train2,x_train2, epochs=300, batch_size=256,\n",
        "                                 shuffle=True, validation_split=0.1)"
      ],
      "execution_count": null,
      "outputs": [
        {
          "output_type": "stream",
          "name": "stdout",
          "text": [
            "Epoch 1/300\n",
            "45/45 [==============================] - 4s 10ms/step - loss: 0.4364 - mse: 0.1116 - val_loss: 0.3407 - val_mse: 0.0787\n",
            "Epoch 2/300\n",
            "45/45 [==============================] - 0s 6ms/step - loss: 0.3070 - mse: 0.0664 - val_loss: 0.2775 - val_mse: 0.0562\n",
            "Epoch 3/300\n",
            "45/45 [==============================] - 0s 7ms/step - loss: 0.2555 - mse: 0.0484 - val_loss: 0.2349 - val_mse: 0.0416\n",
            "Epoch 4/300\n",
            "45/45 [==============================] - 0s 6ms/step - loss: 0.2207 - mse: 0.0367 - val_loss: 0.2098 - val_mse: 0.0333\n",
            "Epoch 5/300\n",
            "45/45 [==============================] - 0s 6ms/step - loss: 0.2011 - mse: 0.0303 - val_loss: 0.1945 - val_mse: 0.0283\n",
            "Epoch 6/300\n",
            "45/45 [==============================] - 0s 6ms/step - loss: 0.1881 - mse: 0.0260 - val_loss: 0.1841 - val_mse: 0.0249\n",
            "Epoch 7/300\n",
            "45/45 [==============================] - 0s 6ms/step - loss: 0.1794 - mse: 0.0233 - val_loss: 0.1782 - val_mse: 0.0232\n",
            "Epoch 8/300\n",
            "45/45 [==============================] - 0s 6ms/step - loss: 0.1738 - mse: 0.0214 - val_loss: 0.1724 - val_mse: 0.0213\n",
            "Epoch 9/300\n",
            "45/45 [==============================] - 0s 6ms/step - loss: 0.1689 - mse: 0.0199 - val_loss: 0.1683 - val_mse: 0.0197\n",
            "Epoch 10/300\n",
            "45/45 [==============================] - 0s 6ms/step - loss: 0.1653 - mse: 0.0187 - val_loss: 0.1653 - val_mse: 0.0189\n",
            "Epoch 11/300\n",
            "45/45 [==============================] - 0s 6ms/step - loss: 0.1624 - mse: 0.0177 - val_loss: 0.1621 - val_mse: 0.0177\n",
            "Epoch 12/300\n",
            "45/45 [==============================] - 0s 6ms/step - loss: 0.1594 - mse: 0.0168 - val_loss: 0.1604 - val_mse: 0.0173\n",
            "Epoch 13/300\n",
            "45/45 [==============================] - 0s 6ms/step - loss: 0.1575 - mse: 0.0161 - val_loss: 0.1577 - val_mse: 0.0164\n",
            "Epoch 14/300\n",
            "45/45 [==============================] - 0s 6ms/step - loss: 0.1557 - mse: 0.0155 - val_loss: 0.1558 - val_mse: 0.0157\n",
            "Epoch 15/300\n",
            "45/45 [==============================] - 0s 6ms/step - loss: 0.1538 - mse: 0.0149 - val_loss: 0.1541 - val_mse: 0.0152\n",
            "Epoch 16/300\n",
            "45/45 [==============================] - 0s 6ms/step - loss: 0.1522 - mse: 0.0144 - val_loss: 0.1528 - val_mse: 0.0148\n",
            "Epoch 17/300\n",
            "45/45 [==============================] - 0s 6ms/step - loss: 0.1506 - mse: 0.0139 - val_loss: 0.1514 - val_mse: 0.0143\n",
            "Epoch 18/300\n",
            "45/45 [==============================] - 0s 6ms/step - loss: 0.1494 - mse: 0.0135 - val_loss: 0.1504 - val_mse: 0.0140\n",
            "Epoch 19/300\n",
            "45/45 [==============================] - 0s 6ms/step - loss: 0.1483 - mse: 0.0132 - val_loss: 0.1487 - val_mse: 0.0134\n",
            "Epoch 20/300\n",
            "45/45 [==============================] - 0s 6ms/step - loss: 0.1470 - mse: 0.0127 - val_loss: 0.1476 - val_mse: 0.0130\n",
            "Epoch 21/300\n",
            "45/45 [==============================] - 0s 6ms/step - loss: 0.1460 - mse: 0.0124 - val_loss: 0.1466 - val_mse: 0.0127\n",
            "Epoch 22/300\n",
            "45/45 [==============================] - 0s 6ms/step - loss: 0.1455 - mse: 0.0122 - val_loss: 0.1465 - val_mse: 0.0126\n",
            "Epoch 23/300\n",
            "45/45 [==============================] - 0s 6ms/step - loss: 0.1442 - mse: 0.0118 - val_loss: 0.1449 - val_mse: 0.0121\n",
            "Epoch 24/300\n",
            "45/45 [==============================] - 0s 6ms/step - loss: 0.1433 - mse: 0.0115 - val_loss: 0.1443 - val_mse: 0.0120\n",
            "Epoch 25/300\n",
            "45/45 [==============================] - 0s 6ms/step - loss: 0.1428 - mse: 0.0114 - val_loss: 0.1435 - val_mse: 0.0117\n",
            "Epoch 26/300\n",
            "45/45 [==============================] - 0s 6ms/step - loss: 0.1421 - mse: 0.0111 - val_loss: 0.1430 - val_mse: 0.0116\n",
            "Epoch 27/300\n",
            "45/45 [==============================] - 0s 6ms/step - loss: 0.1416 - mse: 0.0110 - val_loss: 0.1436 - val_mse: 0.0117\n",
            "Epoch 28/300\n",
            "45/45 [==============================] - 0s 6ms/step - loss: 0.1416 - mse: 0.0110 - val_loss: 0.1419 - val_mse: 0.0112\n",
            "Epoch 29/300\n",
            "45/45 [==============================] - 0s 6ms/step - loss: 0.1404 - mse: 0.0106 - val_loss: 0.1414 - val_mse: 0.0111\n",
            "Epoch 30/300\n",
            "45/45 [==============================] - 0s 6ms/step - loss: 0.1400 - mse: 0.0105 - val_loss: 0.1410 - val_mse: 0.0109\n",
            "Epoch 31/300\n",
            "45/45 [==============================] - 0s 6ms/step - loss: 0.1394 - mse: 0.0103 - val_loss: 0.1406 - val_mse: 0.0108\n",
            "Epoch 32/300\n",
            "45/45 [==============================] - 0s 6ms/step - loss: 0.1390 - mse: 0.0101 - val_loss: 0.1402 - val_mse: 0.0107\n",
            "Epoch 33/300\n",
            "45/45 [==============================] - 0s 6ms/step - loss: 0.1386 - mse: 0.0100 - val_loss: 0.1401 - val_mse: 0.0107\n",
            "Epoch 34/300\n",
            "45/45 [==============================] - 0s 6ms/step - loss: 0.1382 - mse: 0.0099 - val_loss: 0.1392 - val_mse: 0.0103\n",
            "Epoch 35/300\n",
            "45/45 [==============================] - 0s 6ms/step - loss: 0.1379 - mse: 0.0098 - val_loss: 0.1391 - val_mse: 0.0103\n",
            "Epoch 36/300\n",
            "45/45 [==============================] - 0s 6ms/step - loss: 0.1373 - mse: 0.0096 - val_loss: 0.1389 - val_mse: 0.0103\n",
            "Epoch 37/300\n",
            "45/45 [==============================] - 0s 6ms/step - loss: 0.1371 - mse: 0.0095 - val_loss: 0.1394 - val_mse: 0.0105\n",
            "Epoch 38/300\n",
            "45/45 [==============================] - 0s 6ms/step - loss: 0.1369 - mse: 0.0094 - val_loss: 0.1383 - val_mse: 0.0100\n",
            "Epoch 39/300\n",
            "45/45 [==============================] - 0s 6ms/step - loss: 0.1366 - mse: 0.0094 - val_loss: 0.1381 - val_mse: 0.0100\n",
            "Epoch 40/300\n",
            "45/45 [==============================] - 0s 6ms/step - loss: 0.1362 - mse: 0.0092 - val_loss: 0.1374 - val_mse: 0.0098\n",
            "Epoch 41/300\n",
            "45/45 [==============================] - 0s 6ms/step - loss: 0.1358 - mse: 0.0091 - val_loss: 0.1373 - val_mse: 0.0098\n",
            "Epoch 42/300\n",
            "45/45 [==============================] - 0s 6ms/step - loss: 0.1356 - mse: 0.0090 - val_loss: 0.1376 - val_mse: 0.0099\n",
            "Epoch 43/300\n",
            "45/45 [==============================] - 0s 6ms/step - loss: 0.1353 - mse: 0.0089 - val_loss: 0.1365 - val_mse: 0.0095\n",
            "Epoch 44/300\n",
            "45/45 [==============================] - 0s 6ms/step - loss: 0.1350 - mse: 0.0088 - val_loss: 0.1367 - val_mse: 0.0096\n",
            "Epoch 45/300\n",
            "45/45 [==============================] - 0s 6ms/step - loss: 0.1348 - mse: 0.0088 - val_loss: 0.1362 - val_mse: 0.0093\n",
            "Epoch 46/300\n",
            "45/45 [==============================] - 0s 6ms/step - loss: 0.1347 - mse: 0.0087 - val_loss: 0.1358 - val_mse: 0.0092\n",
            "Epoch 47/300\n",
            "45/45 [==============================] - 0s 6ms/step - loss: 0.1342 - mse: 0.0086 - val_loss: 0.1361 - val_mse: 0.0093\n",
            "Epoch 48/300\n",
            "45/45 [==============================] - 0s 6ms/step - loss: 0.1341 - mse: 0.0086 - val_loss: 0.1354 - val_mse: 0.0091\n",
            "Epoch 49/300\n",
            "45/45 [==============================] - 0s 6ms/step - loss: 0.1339 - mse: 0.0085 - val_loss: 0.1352 - val_mse: 0.0091\n",
            "Epoch 50/300\n",
            "45/45 [==============================] - 0s 6ms/step - loss: 0.1336 - mse: 0.0084 - val_loss: 0.1351 - val_mse: 0.0091\n",
            "Epoch 51/300\n",
            "45/45 [==============================] - 0s 6ms/step - loss: 0.1333 - mse: 0.0083 - val_loss: 0.1347 - val_mse: 0.0089\n",
            "Epoch 52/300\n",
            "45/45 [==============================] - 0s 6ms/step - loss: 0.1330 - mse: 0.0082 - val_loss: 0.1344 - val_mse: 0.0088\n",
            "Epoch 53/300\n",
            "45/45 [==============================] - 0s 6ms/step - loss: 0.1327 - mse: 0.0081 - val_loss: 0.1343 - val_mse: 0.0088\n",
            "Epoch 54/300\n",
            "45/45 [==============================] - 0s 6ms/step - loss: 0.1326 - mse: 0.0081 - val_loss: 0.1340 - val_mse: 0.0087\n",
            "Epoch 55/300\n",
            "45/45 [==============================] - 0s 6ms/step - loss: 0.1326 - mse: 0.0081 - val_loss: 0.1341 - val_mse: 0.0087\n",
            "Epoch 56/300\n",
            "45/45 [==============================] - 0s 6ms/step - loss: 0.1324 - mse: 0.0080 - val_loss: 0.1336 - val_mse: 0.0086\n",
            "Epoch 57/300\n",
            "45/45 [==============================] - 0s 6ms/step - loss: 0.1321 - mse: 0.0079 - val_loss: 0.1335 - val_mse: 0.0085\n",
            "Epoch 58/300\n",
            "45/45 [==============================] - 0s 6ms/step - loss: 0.1320 - mse: 0.0079 - val_loss: 0.1335 - val_mse: 0.0085\n",
            "Epoch 59/300\n",
            "45/45 [==============================] - 0s 6ms/step - loss: 0.1317 - mse: 0.0078 - val_loss: 0.1329 - val_mse: 0.0083\n",
            "Epoch 60/300\n",
            "45/45 [==============================] - 0s 6ms/step - loss: 0.1316 - mse: 0.0077 - val_loss: 0.1333 - val_mse: 0.0085\n",
            "Epoch 61/300\n",
            "45/45 [==============================] - 0s 6ms/step - loss: 0.1315 - mse: 0.0077 - val_loss: 0.1328 - val_mse: 0.0083\n",
            "Epoch 62/300\n",
            "45/45 [==============================] - 0s 6ms/step - loss: 0.1312 - mse: 0.0076 - val_loss: 0.1327 - val_mse: 0.0083\n",
            "Epoch 63/300\n",
            "45/45 [==============================] - 0s 6ms/step - loss: 0.1312 - mse: 0.0076 - val_loss: 0.1324 - val_mse: 0.0082\n",
            "Epoch 64/300\n",
            "45/45 [==============================] - 0s 6ms/step - loss: 0.1309 - mse: 0.0075 - val_loss: 0.1322 - val_mse: 0.0081\n",
            "Epoch 65/300\n",
            "45/45 [==============================] - 0s 7ms/step - loss: 0.1308 - mse: 0.0075 - val_loss: 0.1336 - val_mse: 0.0085\n",
            "Epoch 66/300\n",
            "45/45 [==============================] - 0s 6ms/step - loss: 0.1306 - mse: 0.0074 - val_loss: 0.1319 - val_mse: 0.0080\n",
            "Epoch 67/300\n",
            "45/45 [==============================] - 0s 6ms/step - loss: 0.1303 - mse: 0.0073 - val_loss: 0.1317 - val_mse: 0.0079\n",
            "Epoch 68/300\n",
            "45/45 [==============================] - 0s 7ms/step - loss: 0.1303 - mse: 0.0073 - val_loss: 0.1316 - val_mse: 0.0079\n",
            "Epoch 69/300\n",
            "45/45 [==============================] - 0s 6ms/step - loss: 0.1301 - mse: 0.0073 - val_loss: 0.1319 - val_mse: 0.0080\n",
            "Epoch 70/300\n",
            "45/45 [==============================] - 0s 6ms/step - loss: 0.1300 - mse: 0.0072 - val_loss: 0.1312 - val_mse: 0.0078\n",
            "Epoch 71/300\n",
            "45/45 [==============================] - 0s 6ms/step - loss: 0.1297 - mse: 0.0071 - val_loss: 0.1315 - val_mse: 0.0079\n",
            "Epoch 72/300\n",
            "45/45 [==============================] - 0s 6ms/step - loss: 0.1296 - mse: 0.0071 - val_loss: 0.1311 - val_mse: 0.0078\n",
            "Epoch 73/300\n",
            "45/45 [==============================] - 0s 6ms/step - loss: 0.1295 - mse: 0.0071 - val_loss: 0.1312 - val_mse: 0.0078\n",
            "Epoch 74/300\n",
            "45/45 [==============================] - 0s 6ms/step - loss: 0.1296 - mse: 0.0071 - val_loss: 0.1308 - val_mse: 0.0077\n",
            "Epoch 75/300\n",
            "45/45 [==============================] - 0s 6ms/step - loss: 0.1292 - mse: 0.0070 - val_loss: 0.1306 - val_mse: 0.0076\n",
            "Epoch 76/300\n",
            "45/45 [==============================] - 0s 6ms/step - loss: 0.1291 - mse: 0.0069 - val_loss: 0.1305 - val_mse: 0.0076\n",
            "Epoch 77/300\n",
            "45/45 [==============================] - 0s 7ms/step - loss: 0.1290 - mse: 0.0069 - val_loss: 0.1306 - val_mse: 0.0076\n",
            "Epoch 78/300\n",
            "45/45 [==============================] - 0s 6ms/step - loss: 0.1289 - mse: 0.0069 - val_loss: 0.1304 - val_mse: 0.0075\n",
            "Epoch 79/300\n",
            "45/45 [==============================] - 0s 6ms/step - loss: 0.1288 - mse: 0.0068 - val_loss: 0.1302 - val_mse: 0.0075\n",
            "Epoch 80/300\n",
            "45/45 [==============================] - 0s 6ms/step - loss: 0.1287 - mse: 0.0068 - val_loss: 0.1305 - val_mse: 0.0075\n",
            "Epoch 81/300\n",
            "45/45 [==============================] - 0s 7ms/step - loss: 0.1287 - mse: 0.0068 - val_loss: 0.1302 - val_mse: 0.0075\n",
            "Epoch 82/300\n",
            "45/45 [==============================] - 0s 6ms/step - loss: 0.1285 - mse: 0.0068 - val_loss: 0.1299 - val_mse: 0.0074\n",
            "Epoch 83/300\n",
            "45/45 [==============================] - 0s 6ms/step - loss: 0.1284 - mse: 0.0067 - val_loss: 0.1299 - val_mse: 0.0074\n",
            "Epoch 84/300\n",
            "45/45 [==============================] - 0s 6ms/step - loss: 0.1283 - mse: 0.0067 - val_loss: 0.1299 - val_mse: 0.0074\n",
            "Epoch 85/300\n",
            "45/45 [==============================] - 0s 7ms/step - loss: 0.1283 - mse: 0.0067 - val_loss: 0.1297 - val_mse: 0.0073\n",
            "Epoch 86/300\n",
            "45/45 [==============================] - 0s 6ms/step - loss: 0.1280 - mse: 0.0066 - val_loss: 0.1296 - val_mse: 0.0073\n",
            "Epoch 87/300\n",
            "45/45 [==============================] - 0s 6ms/step - loss: 0.1280 - mse: 0.0066 - val_loss: 0.1295 - val_mse: 0.0073\n",
            "Epoch 88/300\n",
            "45/45 [==============================] - 0s 7ms/step - loss: 0.1279 - mse: 0.0065 - val_loss: 0.1294 - val_mse: 0.0072\n",
            "Epoch 89/300\n",
            "45/45 [==============================] - 0s 6ms/step - loss: 0.1280 - mse: 0.0066 - val_loss: 0.1293 - val_mse: 0.0072\n",
            "Epoch 90/300\n",
            "45/45 [==============================] - 0s 6ms/step - loss: 0.1277 - mse: 0.0065 - val_loss: 0.1295 - val_mse: 0.0072\n",
            "Epoch 91/300\n",
            "45/45 [==============================] - 0s 6ms/step - loss: 0.1276 - mse: 0.0065 - val_loss: 0.1293 - val_mse: 0.0072\n",
            "Epoch 92/300\n",
            "45/45 [==============================] - 0s 6ms/step - loss: 0.1275 - mse: 0.0064 - val_loss: 0.1289 - val_mse: 0.0071\n",
            "Epoch 93/300\n",
            "45/45 [==============================] - 0s 6ms/step - loss: 0.1274 - mse: 0.0064 - val_loss: 0.1289 - val_mse: 0.0071\n",
            "Epoch 94/300\n",
            "45/45 [==============================] - 0s 6ms/step - loss: 0.1277 - mse: 0.0065 - val_loss: 0.1293 - val_mse: 0.0072\n",
            "Epoch 95/300\n",
            "45/45 [==============================] - 0s 6ms/step - loss: 0.1274 - mse: 0.0064 - val_loss: 0.1289 - val_mse: 0.0071\n",
            "Epoch 96/300\n",
            "45/45 [==============================] - 0s 6ms/step - loss: 0.1272 - mse: 0.0063 - val_loss: 0.1287 - val_mse: 0.0070\n",
            "Epoch 97/300\n",
            "45/45 [==============================] - 0s 6ms/step - loss: 0.1271 - mse: 0.0063 - val_loss: 0.1289 - val_mse: 0.0071\n",
            "Epoch 98/300\n",
            "45/45 [==============================] - 0s 6ms/step - loss: 0.1272 - mse: 0.0063 - val_loss: 0.1289 - val_mse: 0.0071\n",
            "Epoch 99/300\n",
            "45/45 [==============================] - 0s 6ms/step - loss: 0.1269 - mse: 0.0062 - val_loss: 0.1285 - val_mse: 0.0069\n",
            "Epoch 100/300\n",
            "45/45 [==============================] - 0s 6ms/step - loss: 0.1271 - mse: 0.0063 - val_loss: 0.1288 - val_mse: 0.0071\n",
            "Epoch 101/300\n",
            "45/45 [==============================] - 0s 6ms/step - loss: 0.1268 - mse: 0.0062 - val_loss: 0.1284 - val_mse: 0.0069\n",
            "Epoch 102/300\n",
            "45/45 [==============================] - 0s 6ms/step - loss: 0.1268 - mse: 0.0062 - val_loss: 0.1286 - val_mse: 0.0070\n",
            "Epoch 103/300\n",
            "45/45 [==============================] - 0s 6ms/step - loss: 0.1267 - mse: 0.0062 - val_loss: 0.1284 - val_mse: 0.0069\n",
            "Epoch 104/300\n",
            "45/45 [==============================] - 0s 6ms/step - loss: 0.1267 - mse: 0.0062 - val_loss: 0.1284 - val_mse: 0.0069\n",
            "Epoch 105/300\n",
            "45/45 [==============================] - 0s 6ms/step - loss: 0.1266 - mse: 0.0061 - val_loss: 0.1283 - val_mse: 0.0069\n",
            "Epoch 106/300\n",
            "45/45 [==============================] - 0s 6ms/step - loss: 0.1265 - mse: 0.0061 - val_loss: 0.1282 - val_mse: 0.0068\n",
            "Epoch 107/300\n",
            "45/45 [==============================] - 0s 6ms/step - loss: 0.1264 - mse: 0.0061 - val_loss: 0.1281 - val_mse: 0.0068\n",
            "Epoch 108/300\n",
            "45/45 [==============================] - 0s 6ms/step - loss: 0.1266 - mse: 0.0061 - val_loss: 0.1281 - val_mse: 0.0068\n",
            "Epoch 109/300\n",
            "45/45 [==============================] - 0s 6ms/step - loss: 0.1263 - mse: 0.0060 - val_loss: 0.1280 - val_mse: 0.0068\n",
            "Epoch 110/300\n",
            "45/45 [==============================] - 0s 6ms/step - loss: 0.1262 - mse: 0.0060 - val_loss: 0.1281 - val_mse: 0.0068\n",
            "Epoch 111/300\n",
            "45/45 [==============================] - 0s 6ms/step - loss: 0.1262 - mse: 0.0060 - val_loss: 0.1278 - val_mse: 0.0067\n",
            "Epoch 112/300\n",
            "45/45 [==============================] - 0s 6ms/step - loss: 0.1261 - mse: 0.0060 - val_loss: 0.1277 - val_mse: 0.0067\n",
            "Epoch 113/300\n",
            "45/45 [==============================] - 0s 7ms/step - loss: 0.1262 - mse: 0.0060 - val_loss: 0.1279 - val_mse: 0.0068\n",
            "Epoch 114/300\n",
            "45/45 [==============================] - 0s 6ms/step - loss: 0.1261 - mse: 0.0060 - val_loss: 0.1277 - val_mse: 0.0067\n",
            "Epoch 115/300\n",
            "45/45 [==============================] - 0s 6ms/step - loss: 0.1260 - mse: 0.0060 - val_loss: 0.1277 - val_mse: 0.0067\n",
            "Epoch 116/300\n",
            "45/45 [==============================] - 0s 6ms/step - loss: 0.1259 - mse: 0.0059 - val_loss: 0.1277 - val_mse: 0.0067\n",
            "Epoch 117/300\n",
            "45/45 [==============================] - 0s 6ms/step - loss: 0.1260 - mse: 0.0059 - val_loss: 0.1276 - val_mse: 0.0067\n",
            "Epoch 118/300\n",
            "45/45 [==============================] - 0s 6ms/step - loss: 0.1258 - mse: 0.0059 - val_loss: 0.1276 - val_mse: 0.0066\n",
            "Epoch 119/300\n",
            "45/45 [==============================] - 0s 6ms/step - loss: 0.1258 - mse: 0.0059 - val_loss: 0.1279 - val_mse: 0.0068\n",
            "Epoch 120/300\n",
            "45/45 [==============================] - 0s 6ms/step - loss: 0.1258 - mse: 0.0059 - val_loss: 0.1274 - val_mse: 0.0066\n",
            "Epoch 121/300\n",
            "45/45 [==============================] - 0s 7ms/step - loss: 0.1257 - mse: 0.0058 - val_loss: 0.1274 - val_mse: 0.0066\n",
            "Epoch 122/300\n",
            "45/45 [==============================] - 0s 6ms/step - loss: 0.1257 - mse: 0.0058 - val_loss: 0.1274 - val_mse: 0.0066\n",
            "Epoch 123/300\n",
            "45/45 [==============================] - 0s 6ms/step - loss: 0.1255 - mse: 0.0058 - val_loss: 0.1273 - val_mse: 0.0065\n",
            "Epoch 124/300\n",
            "45/45 [==============================] - 0s 6ms/step - loss: 0.1256 - mse: 0.0058 - val_loss: 0.1273 - val_mse: 0.0065\n",
            "Epoch 125/300\n",
            "45/45 [==============================] - 0s 6ms/step - loss: 0.1257 - mse: 0.0058 - val_loss: 0.1273 - val_mse: 0.0065\n",
            "Epoch 126/300\n",
            "45/45 [==============================] - 0s 6ms/step - loss: 0.1254 - mse: 0.0057 - val_loss: 0.1272 - val_mse: 0.0065\n",
            "Epoch 127/300\n",
            "45/45 [==============================] - 0s 6ms/step - loss: 0.1254 - mse: 0.0058 - val_loss: 0.1273 - val_mse: 0.0065\n",
            "Epoch 128/300\n",
            "45/45 [==============================] - 0s 6ms/step - loss: 0.1255 - mse: 0.0058 - val_loss: 0.1274 - val_mse: 0.0066\n",
            "Epoch 129/300\n",
            "45/45 [==============================] - 0s 6ms/step - loss: 0.1253 - mse: 0.0057 - val_loss: 0.1272 - val_mse: 0.0065\n",
            "Epoch 130/300\n",
            "45/45 [==============================] - 0s 6ms/step - loss: 0.1253 - mse: 0.0057 - val_loss: 0.1271 - val_mse: 0.0065\n",
            "Epoch 131/300\n",
            "45/45 [==============================] - 0s 6ms/step - loss: 0.1253 - mse: 0.0057 - val_loss: 0.1269 - val_mse: 0.0064\n",
            "Epoch 132/300\n",
            "45/45 [==============================] - 0s 6ms/step - loss: 0.1252 - mse: 0.0057 - val_loss: 0.1269 - val_mse: 0.0064\n",
            "Epoch 133/300\n",
            "45/45 [==============================] - 0s 6ms/step - loss: 0.1252 - mse: 0.0057 - val_loss: 0.1270 - val_mse: 0.0064\n",
            "Epoch 134/300\n",
            "45/45 [==============================] - 0s 6ms/step - loss: 0.1252 - mse: 0.0057 - val_loss: 0.1269 - val_mse: 0.0064\n",
            "Epoch 135/300\n",
            "45/45 [==============================] - 0s 7ms/step - loss: 0.1250 - mse: 0.0056 - val_loss: 0.1267 - val_mse: 0.0063\n",
            "Epoch 136/300\n",
            "45/45 [==============================] - 0s 6ms/step - loss: 0.1250 - mse: 0.0056 - val_loss: 0.1269 - val_mse: 0.0064\n",
            "Epoch 137/300\n",
            "45/45 [==============================] - 0s 6ms/step - loss: 0.1249 - mse: 0.0056 - val_loss: 0.1268 - val_mse: 0.0064\n",
            "Epoch 138/300\n",
            "45/45 [==============================] - 0s 6ms/step - loss: 0.1249 - mse: 0.0056 - val_loss: 0.1269 - val_mse: 0.0064\n",
            "Epoch 139/300\n",
            "45/45 [==============================] - 0s 6ms/step - loss: 0.1249 - mse: 0.0056 - val_loss: 0.1268 - val_mse: 0.0064\n",
            "Epoch 140/300\n",
            "45/45 [==============================] - 0s 6ms/step - loss: 0.1250 - mse: 0.0056 - val_loss: 0.1272 - val_mse: 0.0065\n",
            "Epoch 141/300\n",
            "45/45 [==============================] - 0s 6ms/step - loss: 0.1250 - mse: 0.0056 - val_loss: 0.1266 - val_mse: 0.0063\n",
            "Epoch 142/300\n",
            "45/45 [==============================] - 0s 6ms/step - loss: 0.1247 - mse: 0.0055 - val_loss: 0.1267 - val_mse: 0.0063\n",
            "Epoch 143/300\n",
            "45/45 [==============================] - 0s 6ms/step - loss: 0.1247 - mse: 0.0055 - val_loss: 0.1266 - val_mse: 0.0063\n",
            "Epoch 144/300\n",
            "45/45 [==============================] - 0s 6ms/step - loss: 0.1247 - mse: 0.0055 - val_loss: 0.1266 - val_mse: 0.0063\n",
            "Epoch 145/300\n",
            "45/45 [==============================] - 0s 6ms/step - loss: 0.1248 - mse: 0.0056 - val_loss: 0.1267 - val_mse: 0.0063\n",
            "Epoch 146/300\n",
            "45/45 [==============================] - 0s 6ms/step - loss: 0.1247 - mse: 0.0055 - val_loss: 0.1268 - val_mse: 0.0063\n",
            "Epoch 147/300\n",
            "45/45 [==============================] - 0s 6ms/step - loss: 0.1247 - mse: 0.0055 - val_loss: 0.1264 - val_mse: 0.0063\n",
            "Epoch 148/300\n",
            "45/45 [==============================] - 0s 6ms/step - loss: 0.1245 - mse: 0.0055 - val_loss: 0.1264 - val_mse: 0.0062\n",
            "Epoch 149/300\n",
            "45/45 [==============================] - 0s 6ms/step - loss: 0.1245 - mse: 0.0054 - val_loss: 0.1265 - val_mse: 0.0063\n",
            "Epoch 150/300\n",
            "45/45 [==============================] - 0s 6ms/step - loss: 0.1245 - mse: 0.0055 - val_loss: 0.1263 - val_mse: 0.0062\n",
            "Epoch 151/300\n",
            "45/45 [==============================] - 0s 7ms/step - loss: 0.1244 - mse: 0.0054 - val_loss: 0.1263 - val_mse: 0.0062\n",
            "Epoch 152/300\n",
            "45/45 [==============================] - 0s 6ms/step - loss: 0.1245 - mse: 0.0055 - val_loss: 0.1265 - val_mse: 0.0063\n",
            "Epoch 153/300\n",
            "45/45 [==============================] - 0s 6ms/step - loss: 0.1244 - mse: 0.0054 - val_loss: 0.1262 - val_mse: 0.0062\n",
            "Epoch 154/300\n",
            "45/45 [==============================] - 0s 6ms/step - loss: 0.1244 - mse: 0.0054 - val_loss: 0.1265 - val_mse: 0.0063\n",
            "Epoch 155/300\n",
            "45/45 [==============================] - 0s 6ms/step - loss: 0.1243 - mse: 0.0054 - val_loss: 0.1264 - val_mse: 0.0062\n",
            "Epoch 156/300\n",
            "45/45 [==============================] - 0s 6ms/step - loss: 0.1243 - mse: 0.0054 - val_loss: 0.1266 - val_mse: 0.0063\n",
            "Epoch 157/300\n",
            "45/45 [==============================] - 0s 6ms/step - loss: 0.1243 - mse: 0.0054 - val_loss: 0.1267 - val_mse: 0.0063\n",
            "Epoch 158/300\n",
            "45/45 [==============================] - 0s 6ms/step - loss: 0.1243 - mse: 0.0054 - val_loss: 0.1262 - val_mse: 0.0062\n",
            "Epoch 159/300\n",
            "45/45 [==============================] - 0s 6ms/step - loss: 0.1242 - mse: 0.0054 - val_loss: 0.1262 - val_mse: 0.0061\n",
            "Epoch 160/300\n",
            "45/45 [==============================] - 0s 6ms/step - loss: 0.1242 - mse: 0.0054 - val_loss: 0.1261 - val_mse: 0.0061\n",
            "Epoch 161/300\n",
            "45/45 [==============================] - 0s 6ms/step - loss: 0.1242 - mse: 0.0054 - val_loss: 0.1261 - val_mse: 0.0061\n",
            "Epoch 162/300\n",
            "45/45 [==============================] - 0s 6ms/step - loss: 0.1242 - mse: 0.0053 - val_loss: 0.1259 - val_mse: 0.0061\n",
            "Epoch 163/300\n",
            "45/45 [==============================] - 0s 6ms/step - loss: 0.1241 - mse: 0.0053 - val_loss: 0.1259 - val_mse: 0.0061\n",
            "Epoch 164/300\n",
            "45/45 [==============================] - 0s 6ms/step - loss: 0.1240 - mse: 0.0053 - val_loss: 0.1262 - val_mse: 0.0062\n",
            "Epoch 165/300\n",
            "45/45 [==============================] - 0s 6ms/step - loss: 0.1240 - mse: 0.0053 - val_loss: 0.1259 - val_mse: 0.0061\n",
            "Epoch 166/300\n",
            "45/45 [==============================] - 0s 6ms/step - loss: 0.1239 - mse: 0.0053 - val_loss: 0.1260 - val_mse: 0.0061\n",
            "Epoch 167/300\n",
            "45/45 [==============================] - 0s 6ms/step - loss: 0.1241 - mse: 0.0053 - val_loss: 0.1259 - val_mse: 0.0061\n",
            "Epoch 168/300\n",
            "45/45 [==============================] - 0s 6ms/step - loss: 0.1240 - mse: 0.0053 - val_loss: 0.1259 - val_mse: 0.0061\n",
            "Epoch 169/300\n",
            "45/45 [==============================] - 0s 6ms/step - loss: 0.1239 - mse: 0.0053 - val_loss: 0.1263 - val_mse: 0.0062\n",
            "Epoch 170/300\n",
            "45/45 [==============================] - 0s 6ms/step - loss: 0.1240 - mse: 0.0053 - val_loss: 0.1258 - val_mse: 0.0060\n",
            "Epoch 171/300\n",
            "45/45 [==============================] - 0s 6ms/step - loss: 0.1239 - mse: 0.0052 - val_loss: 0.1259 - val_mse: 0.0061\n",
            "Epoch 172/300\n",
            "45/45 [==============================] - 0s 6ms/step - loss: 0.1238 - mse: 0.0052 - val_loss: 0.1256 - val_mse: 0.0060\n",
            "Epoch 173/300\n",
            "45/45 [==============================] - 0s 6ms/step - loss: 0.1237 - mse: 0.0052 - val_loss: 0.1257 - val_mse: 0.0060\n",
            "Epoch 174/300\n",
            "45/45 [==============================] - 0s 6ms/step - loss: 0.1238 - mse: 0.0052 - val_loss: 0.1260 - val_mse: 0.0061\n",
            "Epoch 175/300\n",
            "45/45 [==============================] - 0s 6ms/step - loss: 0.1237 - mse: 0.0052 - val_loss: 0.1255 - val_mse: 0.0060\n",
            "Epoch 176/300\n",
            "45/45 [==============================] - 0s 6ms/step - loss: 0.1236 - mse: 0.0052 - val_loss: 0.1255 - val_mse: 0.0059\n",
            "Epoch 177/300\n",
            "45/45 [==============================] - 0s 6ms/step - loss: 0.1237 - mse: 0.0052 - val_loss: 0.1263 - val_mse: 0.0062\n",
            "Epoch 178/300\n",
            "45/45 [==============================] - 0s 6ms/step - loss: 0.1237 - mse: 0.0052 - val_loss: 0.1256 - val_mse: 0.0060\n",
            "Epoch 179/300\n",
            "45/45 [==============================] - 0s 6ms/step - loss: 0.1236 - mse: 0.0052 - val_loss: 0.1255 - val_mse: 0.0060\n",
            "Epoch 180/300\n",
            "45/45 [==============================] - 0s 6ms/step - loss: 0.1236 - mse: 0.0051 - val_loss: 0.1254 - val_mse: 0.0059\n",
            "Epoch 181/300\n",
            "45/45 [==============================] - 0s 6ms/step - loss: 0.1235 - mse: 0.0051 - val_loss: 0.1254 - val_mse: 0.0059\n",
            "Epoch 182/300\n",
            "45/45 [==============================] - 0s 6ms/step - loss: 0.1235 - mse: 0.0051 - val_loss: 0.1256 - val_mse: 0.0060\n",
            "Epoch 183/300\n",
            "45/45 [==============================] - 0s 6ms/step - loss: 0.1236 - mse: 0.0051 - val_loss: 0.1254 - val_mse: 0.0059\n",
            "Epoch 184/300\n",
            "45/45 [==============================] - 0s 6ms/step - loss: 0.1235 - mse: 0.0051 - val_loss: 0.1254 - val_mse: 0.0059\n",
            "Epoch 185/300\n",
            "45/45 [==============================] - 0s 6ms/step - loss: 0.1235 - mse: 0.0051 - val_loss: 0.1254 - val_mse: 0.0059\n",
            "Epoch 186/300\n",
            "45/45 [==============================] - 0s 7ms/step - loss: 0.1235 - mse: 0.0051 - val_loss: 0.1260 - val_mse: 0.0061\n",
            "Epoch 187/300\n",
            "45/45 [==============================] - 0s 6ms/step - loss: 0.1234 - mse: 0.0051 - val_loss: 0.1254 - val_mse: 0.0059\n",
            "Epoch 188/300\n",
            "45/45 [==============================] - 0s 6ms/step - loss: 0.1234 - mse: 0.0051 - val_loss: 0.1253 - val_mse: 0.0059\n",
            "Epoch 189/300\n",
            "45/45 [==============================] - 0s 7ms/step - loss: 0.1235 - mse: 0.0051 - val_loss: 0.1253 - val_mse: 0.0059\n",
            "Epoch 190/300\n",
            "45/45 [==============================] - 0s 6ms/step - loss: 0.1234 - mse: 0.0051 - val_loss: 0.1254 - val_mse: 0.0059\n",
            "Epoch 191/300\n",
            "45/45 [==============================] - 0s 6ms/step - loss: 0.1233 - mse: 0.0051 - val_loss: 0.1252 - val_mse: 0.0059\n",
            "Epoch 192/300\n",
            "45/45 [==============================] - 0s 6ms/step - loss: 0.1233 - mse: 0.0051 - val_loss: 0.1252 - val_mse: 0.0058\n",
            "Epoch 193/300\n",
            "45/45 [==============================] - 0s 6ms/step - loss: 0.1232 - mse: 0.0050 - val_loss: 0.1253 - val_mse: 0.0059\n",
            "Epoch 194/300\n",
            "45/45 [==============================] - 0s 7ms/step - loss: 0.1233 - mse: 0.0051 - val_loss: 0.1251 - val_mse: 0.0058\n",
            "Epoch 195/300\n",
            "45/45 [==============================] - 0s 6ms/step - loss: 0.1233 - mse: 0.0051 - val_loss: 0.1253 - val_mse: 0.0059\n",
            "Epoch 196/300\n",
            "45/45 [==============================] - 0s 7ms/step - loss: 0.1234 - mse: 0.0051 - val_loss: 0.1253 - val_mse: 0.0059\n",
            "Epoch 197/300\n",
            "45/45 [==============================] - 0s 6ms/step - loss: 0.1232 - mse: 0.0050 - val_loss: 0.1252 - val_mse: 0.0059\n",
            "Epoch 198/300\n",
            "45/45 [==============================] - 0s 6ms/step - loss: 0.1232 - mse: 0.0050 - val_loss: 0.1252 - val_mse: 0.0058\n",
            "Epoch 199/300\n",
            "45/45 [==============================] - 0s 6ms/step - loss: 0.1231 - mse: 0.0050 - val_loss: 0.1251 - val_mse: 0.0058\n",
            "Epoch 200/300\n",
            "45/45 [==============================] - 0s 6ms/step - loss: 0.1231 - mse: 0.0050 - val_loss: 0.1251 - val_mse: 0.0058\n",
            "Epoch 201/300\n",
            "45/45 [==============================] - 0s 6ms/step - loss: 0.1231 - mse: 0.0050 - val_loss: 0.1250 - val_mse: 0.0058\n",
            "Epoch 202/300\n",
            "45/45 [==============================] - 0s 6ms/step - loss: 0.1231 - mse: 0.0050 - val_loss: 0.1250 - val_mse: 0.0058\n",
            "Epoch 203/300\n",
            "45/45 [==============================] - 0s 6ms/step - loss: 0.1230 - mse: 0.0050 - val_loss: 0.1250 - val_mse: 0.0058\n",
            "Epoch 204/300\n",
            "45/45 [==============================] - 0s 6ms/step - loss: 0.1230 - mse: 0.0050 - val_loss: 0.1251 - val_mse: 0.0058\n",
            "Epoch 205/300\n",
            "45/45 [==============================] - 0s 7ms/step - loss: 0.1232 - mse: 0.0050 - val_loss: 0.1250 - val_mse: 0.0058\n",
            "Epoch 206/300\n",
            "45/45 [==============================] - 0s 6ms/step - loss: 0.1230 - mse: 0.0050 - val_loss: 0.1252 - val_mse: 0.0059\n",
            "Epoch 207/300\n",
            "45/45 [==============================] - 0s 6ms/step - loss: 0.1231 - mse: 0.0050 - val_loss: 0.1251 - val_mse: 0.0058\n",
            "Epoch 208/300\n",
            "45/45 [==============================] - 0s 6ms/step - loss: 0.1230 - mse: 0.0050 - val_loss: 0.1248 - val_mse: 0.0057\n",
            "Epoch 209/300\n",
            "45/45 [==============================] - 0s 6ms/step - loss: 0.1230 - mse: 0.0050 - val_loss: 0.1251 - val_mse: 0.0058\n",
            "Epoch 210/300\n",
            "45/45 [==============================] - 0s 7ms/step - loss: 0.1230 - mse: 0.0050 - val_loss: 0.1248 - val_mse: 0.0057\n",
            "Epoch 211/300\n",
            "45/45 [==============================] - 0s 6ms/step - loss: 0.1229 - mse: 0.0049 - val_loss: 0.1251 - val_mse: 0.0058\n",
            "Epoch 212/300\n",
            "45/45 [==============================] - 0s 6ms/step - loss: 0.1229 - mse: 0.0049 - val_loss: 0.1248 - val_mse: 0.0057\n",
            "Epoch 213/300\n",
            "45/45 [==============================] - 0s 6ms/step - loss: 0.1229 - mse: 0.0049 - val_loss: 0.1250 - val_mse: 0.0058\n",
            "Epoch 214/300\n",
            "45/45 [==============================] - 0s 7ms/step - loss: 0.1230 - mse: 0.0050 - val_loss: 0.1249 - val_mse: 0.0057\n",
            "Epoch 215/300\n",
            "45/45 [==============================] - 0s 6ms/step - loss: 0.1230 - mse: 0.0050 - val_loss: 0.1247 - val_mse: 0.0057\n",
            "Epoch 216/300\n",
            "45/45 [==============================] - 0s 6ms/step - loss: 0.1228 - mse: 0.0049 - val_loss: 0.1248 - val_mse: 0.0057\n",
            "Epoch 217/300\n",
            "45/45 [==============================] - 0s 6ms/step - loss: 0.1228 - mse: 0.0049 - val_loss: 0.1248 - val_mse: 0.0057\n",
            "Epoch 218/300\n",
            "45/45 [==============================] - 0s 6ms/step - loss: 0.1229 - mse: 0.0049 - val_loss: 0.1248 - val_mse: 0.0057\n",
            "Epoch 219/300\n",
            "45/45 [==============================] - 0s 6ms/step - loss: 0.1228 - mse: 0.0049 - val_loss: 0.1248 - val_mse: 0.0057\n",
            "Epoch 220/300\n",
            "45/45 [==============================] - 0s 7ms/step - loss: 0.1227 - mse: 0.0049 - val_loss: 0.1251 - val_mse: 0.0058\n",
            "Epoch 221/300\n",
            "45/45 [==============================] - 0s 7ms/step - loss: 0.1228 - mse: 0.0049 - val_loss: 0.1249 - val_mse: 0.0057\n",
            "Epoch 222/300\n",
            "45/45 [==============================] - 0s 7ms/step - loss: 0.1228 - mse: 0.0049 - val_loss: 0.1248 - val_mse: 0.0057\n",
            "Epoch 223/300\n",
            "45/45 [==============================] - 0s 6ms/step - loss: 0.1228 - mse: 0.0049 - val_loss: 0.1250 - val_mse: 0.0058\n",
            "Epoch 224/300\n",
            "45/45 [==============================] - 0s 6ms/step - loss: 0.1228 - mse: 0.0049 - val_loss: 0.1247 - val_mse: 0.0057\n",
            "Epoch 225/300\n",
            "45/45 [==============================] - 0s 6ms/step - loss: 0.1227 - mse: 0.0049 - val_loss: 0.1247 - val_mse: 0.0057\n",
            "Epoch 226/300\n",
            "45/45 [==============================] - 0s 6ms/step - loss: 0.1228 - mse: 0.0049 - val_loss: 0.1249 - val_mse: 0.0057\n",
            "Epoch 227/300\n",
            "45/45 [==============================] - 0s 6ms/step - loss: 0.1227 - mse: 0.0049 - val_loss: 0.1247 - val_mse: 0.0057\n",
            "Epoch 228/300\n",
            "45/45 [==============================] - 0s 6ms/step - loss: 0.1227 - mse: 0.0049 - val_loss: 0.1249 - val_mse: 0.0058\n",
            "Epoch 229/300\n",
            "45/45 [==============================] - 0s 7ms/step - loss: 0.1227 - mse: 0.0049 - val_loss: 0.1246 - val_mse: 0.0057\n",
            "Epoch 230/300\n",
            "45/45 [==============================] - 0s 6ms/step - loss: 0.1226 - mse: 0.0048 - val_loss: 0.1253 - val_mse: 0.0059\n",
            "Epoch 231/300\n",
            "45/45 [==============================] - 0s 6ms/step - loss: 0.1229 - mse: 0.0049 - val_loss: 0.1248 - val_mse: 0.0057\n",
            "Epoch 232/300\n",
            "45/45 [==============================] - 0s 6ms/step - loss: 0.1227 - mse: 0.0049 - val_loss: 0.1246 - val_mse: 0.0056\n",
            "Epoch 233/300\n",
            "45/45 [==============================] - 0s 6ms/step - loss: 0.1226 - mse: 0.0048 - val_loss: 0.1247 - val_mse: 0.0057\n",
            "Epoch 234/300\n",
            "45/45 [==============================] - 0s 6ms/step - loss: 0.1226 - mse: 0.0048 - val_loss: 0.1246 - val_mse: 0.0057\n",
            "Epoch 235/300\n",
            "45/45 [==============================] - 0s 7ms/step - loss: 0.1226 - mse: 0.0048 - val_loss: 0.1247 - val_mse: 0.0057\n",
            "Epoch 236/300\n",
            "45/45 [==============================] - 0s 6ms/step - loss: 0.1226 - mse: 0.0048 - val_loss: 0.1247 - val_mse: 0.0057\n",
            "Epoch 237/300\n",
            "45/45 [==============================] - 0s 6ms/step - loss: 0.1225 - mse: 0.0048 - val_loss: 0.1247 - val_mse: 0.0057\n",
            "Epoch 238/300\n",
            "45/45 [==============================] - 0s 6ms/step - loss: 0.1226 - mse: 0.0048 - val_loss: 0.1247 - val_mse: 0.0057\n",
            "Epoch 239/300\n",
            "45/45 [==============================] - 0s 6ms/step - loss: 0.1225 - mse: 0.0048 - val_loss: 0.1246 - val_mse: 0.0057\n",
            "Epoch 240/300\n",
            "45/45 [==============================] - 0s 6ms/step - loss: 0.1224 - mse: 0.0048 - val_loss: 0.1246 - val_mse: 0.0057\n",
            "Epoch 241/300\n",
            "45/45 [==============================] - 0s 6ms/step - loss: 0.1225 - mse: 0.0048 - val_loss: 0.1248 - val_mse: 0.0057\n",
            "Epoch 242/300\n",
            "45/45 [==============================] - 0s 6ms/step - loss: 0.1225 - mse: 0.0048 - val_loss: 0.1247 - val_mse: 0.0057\n",
            "Epoch 243/300\n",
            "45/45 [==============================] - 0s 7ms/step - loss: 0.1225 - mse: 0.0048 - val_loss: 0.1245 - val_mse: 0.0056\n",
            "Epoch 244/300\n",
            "45/45 [==============================] - 0s 6ms/step - loss: 0.1224 - mse: 0.0048 - val_loss: 0.1250 - val_mse: 0.0058\n",
            "Epoch 245/300\n",
            "45/45 [==============================] - 0s 7ms/step - loss: 0.1226 - mse: 0.0048 - val_loss: 0.1247 - val_mse: 0.0057\n",
            "Epoch 246/300\n",
            "45/45 [==============================] - 0s 6ms/step - loss: 0.1225 - mse: 0.0048 - val_loss: 0.1252 - val_mse: 0.0058\n",
            "Epoch 247/300\n",
            "45/45 [==============================] - 0s 6ms/step - loss: 0.1226 - mse: 0.0049 - val_loss: 0.1245 - val_mse: 0.0056\n",
            "Epoch 248/300\n",
            "45/45 [==============================] - 0s 6ms/step - loss: 0.1224 - mse: 0.0048 - val_loss: 0.1246 - val_mse: 0.0056\n",
            "Epoch 249/300\n",
            "45/45 [==============================] - 0s 6ms/step - loss: 0.1224 - mse: 0.0048 - val_loss: 0.1246 - val_mse: 0.0056\n",
            "Epoch 250/300\n",
            "45/45 [==============================] - 0s 6ms/step - loss: 0.1224 - mse: 0.0048 - val_loss: 0.1244 - val_mse: 0.0056\n",
            "Epoch 251/300\n",
            "45/45 [==============================] - 0s 7ms/step - loss: 0.1223 - mse: 0.0048 - val_loss: 0.1244 - val_mse: 0.0056\n",
            "Epoch 252/300\n",
            "45/45 [==============================] - 0s 6ms/step - loss: 0.1224 - mse: 0.0048 - val_loss: 0.1245 - val_mse: 0.0056\n",
            "Epoch 253/300\n",
            "45/45 [==============================] - 0s 6ms/step - loss: 0.1223 - mse: 0.0047 - val_loss: 0.1244 - val_mse: 0.0056\n",
            "Epoch 254/300\n",
            "45/45 [==============================] - 0s 6ms/step - loss: 0.1224 - mse: 0.0048 - val_loss: 0.1249 - val_mse: 0.0057\n",
            "Epoch 255/300\n",
            "45/45 [==============================] - 0s 6ms/step - loss: 0.1224 - mse: 0.0048 - val_loss: 0.1246 - val_mse: 0.0057\n",
            "Epoch 256/300\n",
            "45/45 [==============================] - 0s 6ms/step - loss: 0.1223 - mse: 0.0047 - val_loss: 0.1243 - val_mse: 0.0055\n",
            "Epoch 257/300\n",
            "45/45 [==============================] - 0s 7ms/step - loss: 0.1223 - mse: 0.0048 - val_loss: 0.1245 - val_mse: 0.0056\n",
            "Epoch 258/300\n",
            "45/45 [==============================] - 0s 6ms/step - loss: 0.1223 - mse: 0.0047 - val_loss: 0.1245 - val_mse: 0.0056\n",
            "Epoch 259/300\n",
            "45/45 [==============================] - 0s 6ms/step - loss: 0.1224 - mse: 0.0048 - val_loss: 0.1244 - val_mse: 0.0056\n",
            "Epoch 260/300\n",
            "45/45 [==============================] - 0s 7ms/step - loss: 0.1223 - mse: 0.0047 - val_loss: 0.1245 - val_mse: 0.0056\n",
            "Epoch 261/300\n",
            "45/45 [==============================] - 0s 6ms/step - loss: 0.1223 - mse: 0.0048 - val_loss: 0.1245 - val_mse: 0.0056\n",
            "Epoch 262/300\n",
            "45/45 [==============================] - 0s 6ms/step - loss: 0.1223 - mse: 0.0047 - val_loss: 0.1245 - val_mse: 0.0056\n",
            "Epoch 263/300\n",
            "45/45 [==============================] - 0s 7ms/step - loss: 0.1223 - mse: 0.0047 - val_loss: 0.1247 - val_mse: 0.0057\n",
            "Epoch 264/300\n",
            "45/45 [==============================] - 0s 6ms/step - loss: 0.1224 - mse: 0.0048 - val_loss: 0.1246 - val_mse: 0.0056\n",
            "Epoch 265/300\n",
            "45/45 [==============================] - 0s 6ms/step - loss: 0.1223 - mse: 0.0047 - val_loss: 0.1246 - val_mse: 0.0056\n",
            "Epoch 266/300\n",
            "45/45 [==============================] - 0s 6ms/step - loss: 0.1223 - mse: 0.0047 - val_loss: 0.1243 - val_mse: 0.0056\n",
            "Epoch 267/300\n",
            "45/45 [==============================] - 0s 7ms/step - loss: 0.1222 - mse: 0.0047 - val_loss: 0.1245 - val_mse: 0.0056\n",
            "Epoch 268/300\n",
            "45/45 [==============================] - 0s 6ms/step - loss: 0.1223 - mse: 0.0047 - val_loss: 0.1245 - val_mse: 0.0056\n",
            "Epoch 269/300\n",
            "45/45 [==============================] - 0s 6ms/step - loss: 0.1223 - mse: 0.0047 - val_loss: 0.1243 - val_mse: 0.0056\n",
            "Epoch 270/300\n",
            "45/45 [==============================] - 0s 6ms/step - loss: 0.1223 - mse: 0.0047 - val_loss: 0.1246 - val_mse: 0.0057\n",
            "Epoch 271/300\n",
            "45/45 [==============================] - 0s 7ms/step - loss: 0.1222 - mse: 0.0047 - val_loss: 0.1244 - val_mse: 0.0056\n",
            "Epoch 272/300\n",
            "45/45 [==============================] - 0s 7ms/step - loss: 0.1222 - mse: 0.0047 - val_loss: 0.1243 - val_mse: 0.0056\n",
            "Epoch 273/300\n",
            "45/45 [==============================] - 0s 6ms/step - loss: 0.1222 - mse: 0.0047 - val_loss: 0.1243 - val_mse: 0.0055\n",
            "Epoch 274/300\n",
            "45/45 [==============================] - 0s 7ms/step - loss: 0.1222 - mse: 0.0047 - val_loss: 0.1245 - val_mse: 0.0056\n",
            "Epoch 275/300\n",
            "45/45 [==============================] - 0s 7ms/step - loss: 0.1222 - mse: 0.0047 - val_loss: 0.1243 - val_mse: 0.0056\n",
            "Epoch 276/300\n",
            "45/45 [==============================] - 0s 6ms/step - loss: 0.1221 - mse: 0.0047 - val_loss: 0.1244 - val_mse: 0.0056\n",
            "Epoch 277/300\n",
            "45/45 [==============================] - 0s 7ms/step - loss: 0.1221 - mse: 0.0047 - val_loss: 0.1244 - val_mse: 0.0056\n",
            "Epoch 278/300\n",
            "45/45 [==============================] - 0s 6ms/step - loss: 0.1222 - mse: 0.0047 - val_loss: 0.1245 - val_mse: 0.0056\n",
            "Epoch 279/300\n",
            "45/45 [==============================] - 0s 6ms/step - loss: 0.1222 - mse: 0.0047 - val_loss: 0.1244 - val_mse: 0.0056\n",
            "Epoch 280/300\n",
            "45/45 [==============================] - 0s 7ms/step - loss: 0.1222 - mse: 0.0047 - val_loss: 0.1242 - val_mse: 0.0055\n",
            "Epoch 281/300\n",
            "45/45 [==============================] - 0s 6ms/step - loss: 0.1222 - mse: 0.0047 - val_loss: 0.1242 - val_mse: 0.0055\n",
            "Epoch 282/300\n",
            "45/45 [==============================] - 0s 6ms/step - loss: 0.1221 - mse: 0.0047 - val_loss: 0.1242 - val_mse: 0.0055\n",
            "Epoch 283/300\n",
            "45/45 [==============================] - 0s 6ms/step - loss: 0.1221 - mse: 0.0047 - val_loss: 0.1247 - val_mse: 0.0057\n",
            "Epoch 284/300\n",
            "45/45 [==============================] - 0s 7ms/step - loss: 0.1222 - mse: 0.0047 - val_loss: 0.1243 - val_mse: 0.0055\n",
            "Epoch 285/300\n",
            "45/45 [==============================] - 0s 7ms/step - loss: 0.1221 - mse: 0.0047 - val_loss: 0.1244 - val_mse: 0.0056\n",
            "Epoch 286/300\n",
            "45/45 [==============================] - 0s 7ms/step - loss: 0.1221 - mse: 0.0047 - val_loss: 0.1245 - val_mse: 0.0056\n",
            "Epoch 287/300\n",
            "45/45 [==============================] - 0s 7ms/step - loss: 0.1221 - mse: 0.0047 - val_loss: 0.1246 - val_mse: 0.0056\n",
            "Epoch 288/300\n",
            "45/45 [==============================] - 0s 6ms/step - loss: 0.1222 - mse: 0.0047 - val_loss: 0.1244 - val_mse: 0.0056\n",
            "Epoch 289/300\n",
            "45/45 [==============================] - 0s 6ms/step - loss: 0.1221 - mse: 0.0047 - val_loss: 0.1245 - val_mse: 0.0056\n",
            "Epoch 290/300\n",
            "45/45 [==============================] - 0s 6ms/step - loss: 0.1221 - mse: 0.0047 - val_loss: 0.1242 - val_mse: 0.0055\n",
            "Epoch 291/300\n",
            "45/45 [==============================] - 0s 7ms/step - loss: 0.1221 - mse: 0.0047 - val_loss: 0.1242 - val_mse: 0.0055\n",
            "Epoch 292/300\n",
            "45/45 [==============================] - 0s 6ms/step - loss: 0.1220 - mse: 0.0047 - val_loss: 0.1242 - val_mse: 0.0055\n",
            "Epoch 293/300\n",
            "45/45 [==============================] - 0s 6ms/step - loss: 0.1221 - mse: 0.0047 - val_loss: 0.1244 - val_mse: 0.0056\n",
            "Epoch 294/300\n",
            "45/45 [==============================] - 0s 6ms/step - loss: 0.1221 - mse: 0.0047 - val_loss: 0.1243 - val_mse: 0.0056\n",
            "Epoch 295/300\n",
            "45/45 [==============================] - 0s 6ms/step - loss: 0.1220 - mse: 0.0047 - val_loss: 0.1242 - val_mse: 0.0055\n",
            "Epoch 296/300\n",
            "45/45 [==============================] - 0s 6ms/step - loss: 0.1221 - mse: 0.0047 - val_loss: 0.1243 - val_mse: 0.0055\n",
            "Epoch 297/300\n",
            "45/45 [==============================] - 0s 7ms/step - loss: 0.1220 - mse: 0.0047 - val_loss: 0.1253 - val_mse: 0.0059\n",
            "Epoch 298/300\n",
            "45/45 [==============================] - 0s 6ms/step - loss: 0.1222 - mse: 0.0047 - val_loss: 0.1244 - val_mse: 0.0056\n",
            "Epoch 299/300\n",
            "45/45 [==============================] - 0s 6ms/step - loss: 0.1220 - mse: 0.0047 - val_loss: 0.1242 - val_mse: 0.0055\n",
            "Epoch 300/300\n",
            "45/45 [==============================] - 0s 6ms/step - loss: 0.1221 - mse: 0.0047 - val_loss: 0.1246 - val_mse: 0.0056\n"
          ]
        }
      ]
    },
    {
      "cell_type": "code",
      "metadata": {
        "colab": {
          "base_uri": "https://localhost:8080/",
          "height": 791
        },
        "id": "mmvfP-fYPEr6",
        "outputId": "1019cf7b-51a7-40dd-cc27-3479d4b6c835"
      },
      "source": [
        "plt.figure(figsize = (13, 6))\n",
        "plt.xlabel('Epochs')\n",
        "plt.ylabel('Loss')\n",
        "plt.title('model loss')\n",
        "plt.plot(history_autoen.history['loss'])\n",
        "plt.plot(history_autoen.history['val_loss'])\n",
        "plt.legend(['Training', 'Validation'])\n",
        "\n",
        "plt.figure(figsize = (13, 6))\n",
        "plt.xlabel('Epochs')\n",
        "plt.ylabel('Mse')\n",
        "plt.title('model mse')\n",
        "plt.plot(history_autoen.history['mse'])\n",
        "plt.plot(history_autoen.history['mse'])\n",
        "plt.legend(['Training', 'Validation'], loc='lower right')\n",
        "plt.show()"
      ],
      "execution_count": null,
      "outputs": [
        {
          "output_type": "display_data",
          "data": {
            "image/png": "[encoded data removed]",
            "text/plain": [
              "<Figure size 936x432 with 1 Axes>"
            ]
          },
          "metadata": {
            "needs_background": "light"
          }
        },
        {
          "output_type": "display_data",
          "data": {
            "image/png": "[encoded data removed]",
            "text/plain": [
              "<Figure size 936x432 with 1 Axes>"
            ]
          },
          "metadata": {
            "needs_background": "light"
          }
        }
      ]
    },
    {
      "cell_type": "code",
      "metadata": {
        "colab": {
          "base_uri": "https://localhost:8080/",
          "height": 248
        },
        "id": "vzRWqgc8yqjb",
        "outputId": "4e682b9e-b7a8-4722-e03f-825e504d677b"
      },
      "source": [
        "# encode + decond all images of x_test2\n",
        "x_selected = x_test2\n",
        "decoded_imgs = autoencoder.predict(x_selected)\n",
        "\n",
        "# visualize the first 10 decoded image\n",
        "n = 10 \n",
        "plt.figure(figsize=(20, 4))\n",
        "for i in range(n):\n",
        "    # original\n",
        "    ax = plt.subplot(2, n, i + 1)\n",
        "    plt.imshow(x_selected[i].reshape(28, 28))\n",
        "    plt.gray()\n",
        "    ax.get_xaxis().set_visible(False)\n",
        "    ax.get_yaxis().set_visible(False)\n",
        "\n",
        "    # reconstruction\n",
        "    ax = plt.subplot(2, n, i + 1 + n)\n",
        "    plt.imshow(decoded_imgs[i].reshape(28, 28))\n",
        "    plt.gray()\n",
        "    # remove axis from visualization\n",
        "    ax.get_xaxis().set_visible(False)\n",
        "    ax.get_yaxis().set_visible(False)\n",
        "plt.show()"
      ],
      "execution_count": null,
      "outputs": [
        {
          "output_type": "display_data",
          "data": {
            "image/png": "[encoded data removed]",
            "text/plain": [
              "<Figure size 1440x288 with 20 Axes>"
            ]
          },
          "metadata": {
            "needs_background": "light"
          }
        }
      ]
    },
    {
      "cell_type": "markdown",
      "metadata": {
        "id": "_W5eXDwBz3IT"
      },
      "source": [
        "<p align='justify'>\n",
        "Le immagini risultano essere molto simili ma non uguali. Ad esempio nella lettera $t$ (quarta colonna) si nota chiaramente la differenza che viene applicata dall'autoencoder.\n",
        "</p>"
      ]
    },
    {
      "cell_type": "markdown",
      "metadata": {
        "id": "UfEm2TcWz4bI"
      },
      "source": [
        "#### OPTIONAL - Classification with autoencoder\n",
        "<p align = 'justify'>\n",
        "Uso le immagini generate con l'autoencoder per risolvere il task di classificazione delle immagini nella classe di appartenenza $[16, 26]$. Per risolvere questo task in primi estraggo dall'autoencoder la parte di encoding. \n",
        "Successivamente utilizzerò questa nuova visualizzazione delle immagini in un modello FFNN per predire la classe di appartenenza. (Potevo usare anche SVM come suggerito, ma per semplicità e prosecuzione del notebook ho usato nuovamente le reti neurali).\n",
        "</p>"
      ]
    },
    {
      "cell_type": "code",
      "metadata": {
        "colab": {
          "base_uri": "https://localhost:8080/"
        },
        "id": "-bkszWzV0JTN",
        "outputId": "eab0f2c8-6129-4bca-9d69-de54800ba7e3"
      },
      "source": [
        "# get the first part of the model (input to encoded representation)\n",
        "encoder = Model(input_img, encoded)"
      ],
      "execution_count": null,
      "outputs": [
        {
          "output_type": "stream",
          "name": "stdout",
          "text": [
            "New image dimension: 64\n"
          ]
        }
      ]
    },
    {
      "cell_type": "markdown",
      "metadata": {
        "id": "Dwh7Udit0_Pm"
      },
      "source": [
        "<p align = 'justify'> \n",
        "Le immagini che si ottengono applicando l'encoder sono di dimensione $64$ per come è stato definito l'autoencoder. A partire da questa immagina applico un semplice modello di FFNN per predire la classe.\n",
        "</p>"
      ]
    },
    {
      "cell_type": "code",
      "metadata": {
        "id": "PRwmhcZQI82x"
      },
      "source": [
        "model_en = Sequential()\n",
        "\n",
        "# FC @ 64, non linear\n",
        "model_en.add(Dense(64, activation = \"relu\", input_shape=(encoded_imgs.shape[1:])))\n",
        "\n",
        "# FC @ 16, non linear (no dropout)\n",
        "model_en.add(Dense(16, activation = \"relu\"))\n",
        "\n",
        "# final layer\n",
        "model_en.add(Dense(n_labels, activation=\"softmax\"))\n",
        "\n",
        "# optimization\n",
        "model_en.compile(optimizer = \"adam\", loss = \"categorical_crossentropy\", \n",
        "              metrics = [\"accuracy\"])"
      ],
      "execution_count": null,
      "outputs": []
    },
    {
      "cell_type": "code",
      "metadata": {
        "colab": {
          "base_uri": "https://localhost:8080/"
        },
        "id": "3qL9Mhp6JNVK",
        "outputId": "acf3b120-2d88-4dd4-bcb8-f0e441ab78ad"
      },
      "source": [
        "# fitting the model\n",
        "# add a shuffle because I haven't reshuffle data after splitting\n",
        "# keep the validation split for check results and when to stop with earlystopping method\n",
        "history_en = model_en.fit(encoded_imgs, y_train2, epochs = 100, batch_size = 128, \n",
        "                          verbose = 1, shuffle = True, validation_split=0.1,\n",
        "                          callbacks=[early_stopping])"
      ],
      "execution_count": null,
      "outputs": [
        {
          "output_type": "stream",
          "name": "stdout",
          "text": [
            "Epoch 1/100\n",
            "89/89 [==============================] - 1s 7ms/step - loss: 0.5032 - accuracy: 0.8444 - val_loss: 0.2902 - val_accuracy: 0.9095\n",
            "Epoch 2/100\n",
            "89/89 [==============================] - 0s 5ms/step - loss: 0.1261 - accuracy: 0.9608 - val_loss: 0.2617 - val_accuracy: 0.9254\n",
            "Epoch 3/100\n",
            "89/89 [==============================] - 0s 5ms/step - loss: 0.0718 - accuracy: 0.9761 - val_loss: 0.3200 - val_accuracy: 0.9079\n",
            "Epoch 4/100\n",
            "89/89 [==============================] - ETA: 0s - loss: 0.0579 - accuracy: 0.9820Restoring model weights from the end of the best epoch: 2.\n",
            "89/89 [==============================] - 0s 5ms/step - loss: 0.0579 - accuracy: 0.9820 - val_loss: 0.2968 - val_accuracy: 0.9222\n",
            "Epoch 00004: early stopping\n"
          ]
        }
      ]
    },
    {
      "cell_type": "code",
      "metadata": {
        "colab": {
          "base_uri": "https://localhost:8080/",
          "height": 662
        },
        "id": "97j3-a9XGWAJ",
        "outputId": "ed81f860-0335-44a0-9e05-b7d4fd1bdc71"
      },
      "source": [
        "# encoding the test set\n",
        "encoded_test = encoder.predict(x_test2)\n",
        "\n",
        "y_hat_en, cl_en = evaluate_predition_ffnn(model_en, encoded_test, y_test2)"
      ],
      "execution_count": null,
      "outputs": [
        {
          "output_type": "stream",
          "name": "stdout",
          "text": [
            "\n",
            "Classification Report\n",
            "               precision    recall  f1-score   support\n",
            "\n",
            "          16       0.92      0.94      0.93       129\n",
            "          17       0.91      0.86      0.89       117\n",
            "          18       0.93      0.82      0.87       124\n",
            "          19       0.96      0.96      0.96       134\n",
            "          20       0.94      0.92      0.93       132\n",
            "          21       0.89      0.86      0.88       128\n",
            "          22       0.89      0.91      0.90       145\n",
            "          23       0.91      0.96      0.93       125\n",
            "          24       0.88      0.95      0.92       137\n",
            "          25       0.91      0.85      0.88       140\n",
            "          26       0.85      0.97      0.91        89\n",
            "\n",
            "    accuracy                           0.91      1400\n",
            "   macro avg       0.91      0.91      0.91      1400\n",
            "weighted avg       0.91      0.91      0.91      1400\n",
            "\n"
          ]
        },
        {
          "output_type": "display_data",
          "data": {
            "image/png": "[encoded data removed]",
            "text/plain": [
              "<Figure size 432x288 with 2 Axes>"
            ]
          },
          "metadata": {
            "needs_background": "light"
          }
        }
      ]
    },
    {
      "cell_type": "markdown",
      "metadata": {
        "id": "obt3c-9wK4ai"
      },
      "source": [
        "<p align = 'justify'>\n",
        "Il modello FFNN applicato dopo l'autoencoder risulta migliore rispetto a quello con la regolarizzazione L2 ma comunque peggiore rispetto al dropout.\n",
        "</p>"
      ]
    },
    {
      "cell_type": "markdown",
      "metadata": {
        "id": "-avH0Fkzl7CO"
      },
      "source": [
        "## Future improvement\n",
        "<p align='justify'>\n",
        "In questo notebook non è stata considerata come tecnica di regolarizzazione la data augmentation. Si potrebbe infatti provare ad applicare questa tecnica, dato che però i dati sono immagini in questo caso non tutte le tecniche sono applicabili (es: non posso ruotare le immagini o ribaltarle). Si potrebbe provare a ``stirare\" l'immagine, per ottenere più immagini di training comunque valide.\n",
        "</p>"
      ]
    },
    {
      "cell_type": "code",
      "metadata": {
        "colab": {
          "base_uri": "https://localhost:8080/"
        },
        "id": "oATNp70zmsYi",
        "outputId": "fb118d99-48fe-4678-bbeb-b077312375e8"
      },
      "source": [
        "# download notebook in .html extension\n",
        "%%shell\n",
        "jupyter nbconvert --to html '/content/drive/MyDrive/Colab Notebooks/AML/Assignment/Assignment2/Assignment2.ipynb'"
      ],
      "execution_count": null,
      "outputs": [
        {
          "output_type": "stream",
          "name": "stdout",
          "text": [
            "[NbConvertApp] Converting notebook /content/drive/MyDrive/Colab Notebooks/AML/Assignment/Assignment2/Assignment2.ipynb to html\n",
            "[NbConvertApp] Writing 765702 bytes to /content/drive/MyDrive/Colab Notebooks/AML/Assignment/Assignment2/Assignment2.html\n"
          ]
        },
        {
          "output_type": "execute_result",
          "data": {
            "text/plain": [
              ""
            ]
          },
          "metadata": {},
          "execution_count": 24
        }
      ]
    },
    {
      "cell_type": "code",
      "metadata": {
        "id": "8Jd0fKzWSBVs"
      },
      "source": [
        ""
      ],
      "execution_count": null,
      "outputs": []
    }
  ]
}